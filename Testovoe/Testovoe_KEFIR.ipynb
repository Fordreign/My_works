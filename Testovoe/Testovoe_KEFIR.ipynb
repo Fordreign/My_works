{
  "nbformat": 4,
  "nbformat_minor": 0,
  "metadata": {
    "colab": {
      "provenance": []
    },
    "kernelspec": {
      "name": "python3",
      "display_name": "Python 3"
    },
    "language_info": {
      "name": "python"
    }
  },
  "cells": [
    {
      "cell_type": "markdown",
      "source": [
        "# Задание 1"
      ],
      "metadata": {
        "id": "mR8y-Pzk4edI"
      }
    },
    {
      "cell_type": "markdown",
      "source": [
        "По результатам тестовой рекламной активности на двух каналах подготовлен следующий датасет, включающий установки, затраты на рекламу и платежи пользователей за первые 28 дней жизни\n",
        "\n",
        "- Все валюты указаны в $ по данным трекинговой системы, не учитывают комиссии магазинов и прочие дополнительные издержки.\n",
        "\n",
        "- Указаны 2 версии затрат, отличающиеся группировкой.\n",
        "\n",
        "Опираясь на приведённые данные ответьте на следующие вопросы:\n",
        "\n",
        "1) Каков CPI и ROAS для каждого источника трафика?\n",
        "\n",
        "2) Для MediaSource2 рассчитайте конверсию в платящего для пользователей, установивших приложение через Wi-Fi и без него. Достаточно ли данных, чтобы с 95% вероятностью утверждать, что влияние наличия Wi-Fi имеет влияние на конверсию в платящего? Обоснуйте.\n",
        "\n",
        "3) Выработайте ряд рекомендаций для оптимизации рекламных кампаний, считайте, что ограничений на оптимизацию нет, ваша цель - поднять прибыльность и эффективность маркетинговых кампаний на текущих источниках."
      ],
      "metadata": {
        "id": "bDWsatoPpHdf"
      }
    },
    {
      "cell_type": "code",
      "source": [
        "import pandas as pd\n",
        "import numpy as np\n",
        "import scipy\n",
        "\n",
        "import matplotlib.pyplot as plt\n",
        "import seaborn as sns\n",
        "\n",
        "%matplotlib inline\n",
        "\n",
        "from scipy.stats import norm"
      ],
      "metadata": {
        "id": "AWcf7BBjr_Uq"
      },
      "execution_count": 1,
      "outputs": []
    },
    {
      "cell_type": "markdown",
      "source": [
        "Installs - установки по юзерам с информацией по трафику, кампаний  и стране"
      ],
      "metadata": {
        "id": "-gG9TvDssxTm"
      }
    },
    {
      "cell_type": "code",
      "source": [
        "df_installs = pd.read_excel('/content/drive/MyDrive/dataset_kefir.xlsx', sheet_name='Installs')"
      ],
      "metadata": {
        "id": "Hx_CV85tpLN0"
      },
      "execution_count": 2,
      "outputs": []
    },
    {
      "cell_type": "code",
      "source": [
        "df_installs.sample(4)"
      ],
      "metadata": {
        "colab": {
          "base_uri": "https://localhost:8080/",
          "height": 175
        },
        "id": "pk1eP8hqsnmF",
        "outputId": "08f44ca7-1598-4921-d488-fe57e481b034"
      },
      "execution_count": 3,
      "outputs": [
        {
          "output_type": "execute_result",
          "data": {
            "text/plain": [
              "        MediaSource   CampaignID  Channel Country   Wifi  \\\n",
              "13830  MediaSource1  19560305480  Network      ES   True   \n",
              "2911   MediaSource1  19560305480  Network      UY  False   \n",
              "8500   MediaSource1  19560305480  Network      BR  False   \n",
              "13348  MediaSource1  19560305480  Network      SX   True   \n",
              "\n",
              "                                  UserID  OSVersion  \n",
              "13830  1675002107838-3708128067707373746         11  \n",
              "2911   1675050109067-2982678519847552826         13  \n",
              "8500   1675113947322-4048659905923849754         12  \n",
              "13348    1674919660332-77660219558688286         11  "
            ],
            "text/html": [
              "\n",
              "  <div id=\"df-30ab2b80-ed91-42d9-8d44-4e1decf85456\">\n",
              "    <div class=\"colab-df-container\">\n",
              "      <div>\n",
              "<style scoped>\n",
              "    .dataframe tbody tr th:only-of-type {\n",
              "        vertical-align: middle;\n",
              "    }\n",
              "\n",
              "    .dataframe tbody tr th {\n",
              "        vertical-align: top;\n",
              "    }\n",
              "\n",
              "    .dataframe thead th {\n",
              "        text-align: right;\n",
              "    }\n",
              "</style>\n",
              "<table border=\"1\" class=\"dataframe\">\n",
              "  <thead>\n",
              "    <tr style=\"text-align: right;\">\n",
              "      <th></th>\n",
              "      <th>MediaSource</th>\n",
              "      <th>CampaignID</th>\n",
              "      <th>Channel</th>\n",
              "      <th>Country</th>\n",
              "      <th>Wifi</th>\n",
              "      <th>UserID</th>\n",
              "      <th>OSVersion</th>\n",
              "    </tr>\n",
              "  </thead>\n",
              "  <tbody>\n",
              "    <tr>\n",
              "      <th>13830</th>\n",
              "      <td>MediaSource1</td>\n",
              "      <td>19560305480</td>\n",
              "      <td>Network</td>\n",
              "      <td>ES</td>\n",
              "      <td>True</td>\n",
              "      <td>1675002107838-3708128067707373746</td>\n",
              "      <td>11</td>\n",
              "    </tr>\n",
              "    <tr>\n",
              "      <th>2911</th>\n",
              "      <td>MediaSource1</td>\n",
              "      <td>19560305480</td>\n",
              "      <td>Network</td>\n",
              "      <td>UY</td>\n",
              "      <td>False</td>\n",
              "      <td>1675050109067-2982678519847552826</td>\n",
              "      <td>13</td>\n",
              "    </tr>\n",
              "    <tr>\n",
              "      <th>8500</th>\n",
              "      <td>MediaSource1</td>\n",
              "      <td>19560305480</td>\n",
              "      <td>Network</td>\n",
              "      <td>BR</td>\n",
              "      <td>False</td>\n",
              "      <td>1675113947322-4048659905923849754</td>\n",
              "      <td>12</td>\n",
              "    </tr>\n",
              "    <tr>\n",
              "      <th>13348</th>\n",
              "      <td>MediaSource1</td>\n",
              "      <td>19560305480</td>\n",
              "      <td>Network</td>\n",
              "      <td>SX</td>\n",
              "      <td>True</td>\n",
              "      <td>1674919660332-77660219558688286</td>\n",
              "      <td>11</td>\n",
              "    </tr>\n",
              "  </tbody>\n",
              "</table>\n",
              "</div>\n",
              "      <button class=\"colab-df-convert\" onclick=\"convertToInteractive('df-30ab2b80-ed91-42d9-8d44-4e1decf85456')\"\n",
              "              title=\"Convert this dataframe to an interactive table.\"\n",
              "              style=\"display:none;\">\n",
              "        \n",
              "  <svg xmlns=\"http://www.w3.org/2000/svg\" height=\"24px\"viewBox=\"0 0 24 24\"\n",
              "       width=\"24px\">\n",
              "    <path d=\"M0 0h24v24H0V0z\" fill=\"none\"/>\n",
              "    <path d=\"M18.56 5.44l.94 2.06.94-2.06 2.06-.94-2.06-.94-.94-2.06-.94 2.06-2.06.94zm-11 1L8.5 8.5l.94-2.06 2.06-.94-2.06-.94L8.5 2.5l-.94 2.06-2.06.94zm10 10l.94 2.06.94-2.06 2.06-.94-2.06-.94-.94-2.06-.94 2.06-2.06.94z\"/><path d=\"M17.41 7.96l-1.37-1.37c-.4-.4-.92-.59-1.43-.59-.52 0-1.04.2-1.43.59L10.3 9.45l-7.72 7.72c-.78.78-.78 2.05 0 2.83L4 21.41c.39.39.9.59 1.41.59.51 0 1.02-.2 1.41-.59l7.78-7.78 2.81-2.81c.8-.78.8-2.07 0-2.86zM5.41 20L4 18.59l7.72-7.72 1.47 1.35L5.41 20z\"/>\n",
              "  </svg>\n",
              "      </button>\n",
              "      \n",
              "  <style>\n",
              "    .colab-df-container {\n",
              "      display:flex;\n",
              "      flex-wrap:wrap;\n",
              "      gap: 12px;\n",
              "    }\n",
              "\n",
              "    .colab-df-convert {\n",
              "      background-color: #E8F0FE;\n",
              "      border: none;\n",
              "      border-radius: 50%;\n",
              "      cursor: pointer;\n",
              "      display: none;\n",
              "      fill: #1967D2;\n",
              "      height: 32px;\n",
              "      padding: 0 0 0 0;\n",
              "      width: 32px;\n",
              "    }\n",
              "\n",
              "    .colab-df-convert:hover {\n",
              "      background-color: #E2EBFA;\n",
              "      box-shadow: 0px 1px 2px rgba(60, 64, 67, 0.3), 0px 1px 3px 1px rgba(60, 64, 67, 0.15);\n",
              "      fill: #174EA6;\n",
              "    }\n",
              "\n",
              "    [theme=dark] .colab-df-convert {\n",
              "      background-color: #3B4455;\n",
              "      fill: #D2E3FC;\n",
              "    }\n",
              "\n",
              "    [theme=dark] .colab-df-convert:hover {\n",
              "      background-color: #434B5C;\n",
              "      box-shadow: 0px 1px 3px 1px rgba(0, 0, 0, 0.15);\n",
              "      filter: drop-shadow(0px 1px 2px rgba(0, 0, 0, 0.3));\n",
              "      fill: #FFFFFF;\n",
              "    }\n",
              "  </style>\n",
              "\n",
              "      <script>\n",
              "        const buttonEl =\n",
              "          document.querySelector('#df-30ab2b80-ed91-42d9-8d44-4e1decf85456 button.colab-df-convert');\n",
              "        buttonEl.style.display =\n",
              "          google.colab.kernel.accessAllowed ? 'block' : 'none';\n",
              "\n",
              "        async function convertToInteractive(key) {\n",
              "          const element = document.querySelector('#df-30ab2b80-ed91-42d9-8d44-4e1decf85456');\n",
              "          const dataTable =\n",
              "            await google.colab.kernel.invokeFunction('convertToInteractive',\n",
              "                                                     [key], {});\n",
              "          if (!dataTable) return;\n",
              "\n",
              "          const docLinkHtml = 'Like what you see? Visit the ' +\n",
              "            '<a target=\"_blank\" href=https://colab.research.google.com/notebooks/data_table.ipynb>data table notebook</a>'\n",
              "            + ' to learn more about interactive tables.';\n",
              "          element.innerHTML = '';\n",
              "          dataTable['output_type'] = 'display_data';\n",
              "          await google.colab.output.renderOutput(dataTable, element);\n",
              "          const docLink = document.createElement('div');\n",
              "          docLink.innerHTML = docLinkHtml;\n",
              "          element.appendChild(docLink);\n",
              "        }\n",
              "      </script>\n",
              "    </div>\n",
              "  </div>\n",
              "  "
            ]
          },
          "metadata": {},
          "execution_count": 3
        }
      ]
    },
    {
      "cell_type": "code",
      "source": [
        "df_installs.info()"
      ],
      "metadata": {
        "colab": {
          "base_uri": "https://localhost:8080/"
        },
        "id": "MoxsxKVYsglx",
        "outputId": "e3b5efb6-6057-4562-b8d6-affd501249e1"
      },
      "execution_count": 4,
      "outputs": [
        {
          "output_type": "stream",
          "name": "stdout",
          "text": [
            "<class 'pandas.core.frame.DataFrame'>\n",
            "RangeIndex: 22416 entries, 0 to 22415\n",
            "Data columns (total 7 columns):\n",
            " #   Column       Non-Null Count  Dtype \n",
            "---  ------       --------------  ----- \n",
            " 0   MediaSource  22416 non-null  object\n",
            " 1   CampaignID   22416 non-null  object\n",
            " 2   Channel      22416 non-null  object\n",
            " 3   Country      22409 non-null  object\n",
            " 4   Wifi         22416 non-null  bool  \n",
            " 5   UserID       22416 non-null  object\n",
            " 6   OSVersion    22416 non-null  int64 \n",
            "dtypes: bool(1), int64(1), object(5)\n",
            "memory usage: 1.0+ MB\n"
          ]
        }
      ]
    },
    {
      "cell_type": "code",
      "source": [
        "# проверка на дубликаты\n",
        "df_installs.duplicated().sum()"
      ],
      "metadata": {
        "colab": {
          "base_uri": "https://localhost:8080/"
        },
        "id": "KU4Xsri8V4yS",
        "outputId": "45dfa7e5-1fda-4bc1-959c-3df2564402b8"
      },
      "execution_count": 5,
      "outputs": [
        {
          "output_type": "execute_result",
          "data": {
            "text/plain": [
              "1"
            ]
          },
          "metadata": {},
          "execution_count": 5
        }
      ]
    },
    {
      "cell_type": "markdown",
      "source": [
        "Payments - доход по каждому юзеру"
      ],
      "metadata": {
        "id": "q6KAMjmDsy_P"
      }
    },
    {
      "cell_type": "code",
      "source": [
        "df_payments = pd.read_excel('/content/drive/MyDrive/dataset_kefir.xlsx', sheet_name='Payments')"
      ],
      "metadata": {
        "id": "UmS0ooBHsj1y"
      },
      "execution_count": 6,
      "outputs": []
    },
    {
      "cell_type": "code",
      "source": [
        "df_payments.sample(4)"
      ],
      "metadata": {
        "colab": {
          "base_uri": "https://localhost:8080/",
          "height": 175
        },
        "id": "52RwEtdas6Be",
        "outputId": "cc242ecf-8990-4bef-e17e-29e216e167ef"
      },
      "execution_count": 7,
      "outputs": [
        {
          "output_type": "execute_result",
          "data": {
            "text/plain": [
              "                                 UserID  PaymentRevenue\n",
              "1473  1674992672627-2449730529934400636         4.99000\n",
              "44    1673818368646-7482283760190329185         2.07543\n",
              "198   1673670959707-4461760122653175614         4.99000\n",
              "1178  1673924305842-2138606797448681330         4.99000"
            ],
            "text/html": [
              "\n",
              "  <div id=\"df-9f27f7c6-75d1-4e4c-9612-47fe0eacdb6a\">\n",
              "    <div class=\"colab-df-container\">\n",
              "      <div>\n",
              "<style scoped>\n",
              "    .dataframe tbody tr th:only-of-type {\n",
              "        vertical-align: middle;\n",
              "    }\n",
              "\n",
              "    .dataframe tbody tr th {\n",
              "        vertical-align: top;\n",
              "    }\n",
              "\n",
              "    .dataframe thead th {\n",
              "        text-align: right;\n",
              "    }\n",
              "</style>\n",
              "<table border=\"1\" class=\"dataframe\">\n",
              "  <thead>\n",
              "    <tr style=\"text-align: right;\">\n",
              "      <th></th>\n",
              "      <th>UserID</th>\n",
              "      <th>PaymentRevenue</th>\n",
              "    </tr>\n",
              "  </thead>\n",
              "  <tbody>\n",
              "    <tr>\n",
              "      <th>1473</th>\n",
              "      <td>1674992672627-2449730529934400636</td>\n",
              "      <td>4.99000</td>\n",
              "    </tr>\n",
              "    <tr>\n",
              "      <th>44</th>\n",
              "      <td>1673818368646-7482283760190329185</td>\n",
              "      <td>2.07543</td>\n",
              "    </tr>\n",
              "    <tr>\n",
              "      <th>198</th>\n",
              "      <td>1673670959707-4461760122653175614</td>\n",
              "      <td>4.99000</td>\n",
              "    </tr>\n",
              "    <tr>\n",
              "      <th>1178</th>\n",
              "      <td>1673924305842-2138606797448681330</td>\n",
              "      <td>4.99000</td>\n",
              "    </tr>\n",
              "  </tbody>\n",
              "</table>\n",
              "</div>\n",
              "      <button class=\"colab-df-convert\" onclick=\"convertToInteractive('df-9f27f7c6-75d1-4e4c-9612-47fe0eacdb6a')\"\n",
              "              title=\"Convert this dataframe to an interactive table.\"\n",
              "              style=\"display:none;\">\n",
              "        \n",
              "  <svg xmlns=\"http://www.w3.org/2000/svg\" height=\"24px\"viewBox=\"0 0 24 24\"\n",
              "       width=\"24px\">\n",
              "    <path d=\"M0 0h24v24H0V0z\" fill=\"none\"/>\n",
              "    <path d=\"M18.56 5.44l.94 2.06.94-2.06 2.06-.94-2.06-.94-.94-2.06-.94 2.06-2.06.94zm-11 1L8.5 8.5l.94-2.06 2.06-.94-2.06-.94L8.5 2.5l-.94 2.06-2.06.94zm10 10l.94 2.06.94-2.06 2.06-.94-2.06-.94-.94-2.06-.94 2.06-2.06.94z\"/><path d=\"M17.41 7.96l-1.37-1.37c-.4-.4-.92-.59-1.43-.59-.52 0-1.04.2-1.43.59L10.3 9.45l-7.72 7.72c-.78.78-.78 2.05 0 2.83L4 21.41c.39.39.9.59 1.41.59.51 0 1.02-.2 1.41-.59l7.78-7.78 2.81-2.81c.8-.78.8-2.07 0-2.86zM5.41 20L4 18.59l7.72-7.72 1.47 1.35L5.41 20z\"/>\n",
              "  </svg>\n",
              "      </button>\n",
              "      \n",
              "  <style>\n",
              "    .colab-df-container {\n",
              "      display:flex;\n",
              "      flex-wrap:wrap;\n",
              "      gap: 12px;\n",
              "    }\n",
              "\n",
              "    .colab-df-convert {\n",
              "      background-color: #E8F0FE;\n",
              "      border: none;\n",
              "      border-radius: 50%;\n",
              "      cursor: pointer;\n",
              "      display: none;\n",
              "      fill: #1967D2;\n",
              "      height: 32px;\n",
              "      padding: 0 0 0 0;\n",
              "      width: 32px;\n",
              "    }\n",
              "\n",
              "    .colab-df-convert:hover {\n",
              "      background-color: #E2EBFA;\n",
              "      box-shadow: 0px 1px 2px rgba(60, 64, 67, 0.3), 0px 1px 3px 1px rgba(60, 64, 67, 0.15);\n",
              "      fill: #174EA6;\n",
              "    }\n",
              "\n",
              "    [theme=dark] .colab-df-convert {\n",
              "      background-color: #3B4455;\n",
              "      fill: #D2E3FC;\n",
              "    }\n",
              "\n",
              "    [theme=dark] .colab-df-convert:hover {\n",
              "      background-color: #434B5C;\n",
              "      box-shadow: 0px 1px 3px 1px rgba(0, 0, 0, 0.15);\n",
              "      filter: drop-shadow(0px 1px 2px rgba(0, 0, 0, 0.3));\n",
              "      fill: #FFFFFF;\n",
              "    }\n",
              "  </style>\n",
              "\n",
              "      <script>\n",
              "        const buttonEl =\n",
              "          document.querySelector('#df-9f27f7c6-75d1-4e4c-9612-47fe0eacdb6a button.colab-df-convert');\n",
              "        buttonEl.style.display =\n",
              "          google.colab.kernel.accessAllowed ? 'block' : 'none';\n",
              "\n",
              "        async function convertToInteractive(key) {\n",
              "          const element = document.querySelector('#df-9f27f7c6-75d1-4e4c-9612-47fe0eacdb6a');\n",
              "          const dataTable =\n",
              "            await google.colab.kernel.invokeFunction('convertToInteractive',\n",
              "                                                     [key], {});\n",
              "          if (!dataTable) return;\n",
              "\n",
              "          const docLinkHtml = 'Like what you see? Visit the ' +\n",
              "            '<a target=\"_blank\" href=https://colab.research.google.com/notebooks/data_table.ipynb>data table notebook</a>'\n",
              "            + ' to learn more about interactive tables.';\n",
              "          element.innerHTML = '';\n",
              "          dataTable['output_type'] = 'display_data';\n",
              "          await google.colab.output.renderOutput(dataTable, element);\n",
              "          const docLink = document.createElement('div');\n",
              "          docLink.innerHTML = docLinkHtml;\n",
              "          element.appendChild(docLink);\n",
              "        }\n",
              "      </script>\n",
              "    </div>\n",
              "  </div>\n",
              "  "
            ]
          },
          "metadata": {},
          "execution_count": 7
        }
      ]
    },
    {
      "cell_type": "code",
      "source": [
        "df_payments.info()"
      ],
      "metadata": {
        "colab": {
          "base_uri": "https://localhost:8080/"
        },
        "id": "3zL27Nh-tAEU",
        "outputId": "40545a40-d2ee-4964-bc32-0584b73e7729"
      },
      "execution_count": 8,
      "outputs": [
        {
          "output_type": "stream",
          "name": "stdout",
          "text": [
            "<class 'pandas.core.frame.DataFrame'>\n",
            "RangeIndex: 1580 entries, 0 to 1579\n",
            "Data columns (total 2 columns):\n",
            " #   Column          Non-Null Count  Dtype  \n",
            "---  ------          --------------  -----  \n",
            " 0   UserID          1580 non-null   object \n",
            " 1   PaymentRevenue  1580 non-null   float64\n",
            "dtypes: float64(1), object(1)\n",
            "memory usage: 24.8+ KB\n"
          ]
        }
      ]
    },
    {
      "cell_type": "markdown",
      "source": [
        "Cost_v1 - разбивка кампании по странам и их стоимость"
      ],
      "metadata": {
        "id": "sqMfhq-otMbn"
      }
    },
    {
      "cell_type": "code",
      "source": [
        "df_cost_v1 = pd.read_excel('/content/drive/MyDrive/dataset_kefir.xlsx', sheet_name='Cost_v1')"
      ],
      "metadata": {
        "id": "Xd6RTAuDtBDq"
      },
      "execution_count": 9,
      "outputs": []
    },
    {
      "cell_type": "code",
      "source": [
        "df_cost_v1.sample(4)"
      ],
      "metadata": {
        "colab": {
          "base_uri": "https://localhost:8080/",
          "height": 175
        },
        "id": "ycGUEaTjtSeC",
        "outputId": "2b075bb9-a69f-4202-d510-ce07aac3f893"
      },
      "execution_count": 10,
      "outputs": [
        {
          "output_type": "execute_result",
          "data": {
            "text/plain": [
              "      MediaSource   CampaignID Country       Cost\n",
              "257  MediaSource1  19560305480      KY   0.065178\n",
              "358  MediaSource1  19560308588      WS   0.003696\n",
              "170  MediaSource1  19560305480      NL  39.428045\n",
              "428  MediaSource1  19560308588      UZ   3.322457"
            ],
            "text/html": [
              "\n",
              "  <div id=\"df-523969dc-93d3-4aaa-8dd0-b3ec0b000e50\">\n",
              "    <div class=\"colab-df-container\">\n",
              "      <div>\n",
              "<style scoped>\n",
              "    .dataframe tbody tr th:only-of-type {\n",
              "        vertical-align: middle;\n",
              "    }\n",
              "\n",
              "    .dataframe tbody tr th {\n",
              "        vertical-align: top;\n",
              "    }\n",
              "\n",
              "    .dataframe thead th {\n",
              "        text-align: right;\n",
              "    }\n",
              "</style>\n",
              "<table border=\"1\" class=\"dataframe\">\n",
              "  <thead>\n",
              "    <tr style=\"text-align: right;\">\n",
              "      <th></th>\n",
              "      <th>MediaSource</th>\n",
              "      <th>CampaignID</th>\n",
              "      <th>Country</th>\n",
              "      <th>Cost</th>\n",
              "    </tr>\n",
              "  </thead>\n",
              "  <tbody>\n",
              "    <tr>\n",
              "      <th>257</th>\n",
              "      <td>MediaSource1</td>\n",
              "      <td>19560305480</td>\n",
              "      <td>KY</td>\n",
              "      <td>0.065178</td>\n",
              "    </tr>\n",
              "    <tr>\n",
              "      <th>358</th>\n",
              "      <td>MediaSource1</td>\n",
              "      <td>19560308588</td>\n",
              "      <td>WS</td>\n",
              "      <td>0.003696</td>\n",
              "    </tr>\n",
              "    <tr>\n",
              "      <th>170</th>\n",
              "      <td>MediaSource1</td>\n",
              "      <td>19560305480</td>\n",
              "      <td>NL</td>\n",
              "      <td>39.428045</td>\n",
              "    </tr>\n",
              "    <tr>\n",
              "      <th>428</th>\n",
              "      <td>MediaSource1</td>\n",
              "      <td>19560308588</td>\n",
              "      <td>UZ</td>\n",
              "      <td>3.322457</td>\n",
              "    </tr>\n",
              "  </tbody>\n",
              "</table>\n",
              "</div>\n",
              "      <button class=\"colab-df-convert\" onclick=\"convertToInteractive('df-523969dc-93d3-4aaa-8dd0-b3ec0b000e50')\"\n",
              "              title=\"Convert this dataframe to an interactive table.\"\n",
              "              style=\"display:none;\">\n",
              "        \n",
              "  <svg xmlns=\"http://www.w3.org/2000/svg\" height=\"24px\"viewBox=\"0 0 24 24\"\n",
              "       width=\"24px\">\n",
              "    <path d=\"M0 0h24v24H0V0z\" fill=\"none\"/>\n",
              "    <path d=\"M18.56 5.44l.94 2.06.94-2.06 2.06-.94-2.06-.94-.94-2.06-.94 2.06-2.06.94zm-11 1L8.5 8.5l.94-2.06 2.06-.94-2.06-.94L8.5 2.5l-.94 2.06-2.06.94zm10 10l.94 2.06.94-2.06 2.06-.94-2.06-.94-.94-2.06-.94 2.06-2.06.94z\"/><path d=\"M17.41 7.96l-1.37-1.37c-.4-.4-.92-.59-1.43-.59-.52 0-1.04.2-1.43.59L10.3 9.45l-7.72 7.72c-.78.78-.78 2.05 0 2.83L4 21.41c.39.39.9.59 1.41.59.51 0 1.02-.2 1.41-.59l7.78-7.78 2.81-2.81c.8-.78.8-2.07 0-2.86zM5.41 20L4 18.59l7.72-7.72 1.47 1.35L5.41 20z\"/>\n",
              "  </svg>\n",
              "      </button>\n",
              "      \n",
              "  <style>\n",
              "    .colab-df-container {\n",
              "      display:flex;\n",
              "      flex-wrap:wrap;\n",
              "      gap: 12px;\n",
              "    }\n",
              "\n",
              "    .colab-df-convert {\n",
              "      background-color: #E8F0FE;\n",
              "      border: none;\n",
              "      border-radius: 50%;\n",
              "      cursor: pointer;\n",
              "      display: none;\n",
              "      fill: #1967D2;\n",
              "      height: 32px;\n",
              "      padding: 0 0 0 0;\n",
              "      width: 32px;\n",
              "    }\n",
              "\n",
              "    .colab-df-convert:hover {\n",
              "      background-color: #E2EBFA;\n",
              "      box-shadow: 0px 1px 2px rgba(60, 64, 67, 0.3), 0px 1px 3px 1px rgba(60, 64, 67, 0.15);\n",
              "      fill: #174EA6;\n",
              "    }\n",
              "\n",
              "    [theme=dark] .colab-df-convert {\n",
              "      background-color: #3B4455;\n",
              "      fill: #D2E3FC;\n",
              "    }\n",
              "\n",
              "    [theme=dark] .colab-df-convert:hover {\n",
              "      background-color: #434B5C;\n",
              "      box-shadow: 0px 1px 3px 1px rgba(0, 0, 0, 0.15);\n",
              "      filter: drop-shadow(0px 1px 2px rgba(0, 0, 0, 0.3));\n",
              "      fill: #FFFFFF;\n",
              "    }\n",
              "  </style>\n",
              "\n",
              "      <script>\n",
              "        const buttonEl =\n",
              "          document.querySelector('#df-523969dc-93d3-4aaa-8dd0-b3ec0b000e50 button.colab-df-convert');\n",
              "        buttonEl.style.display =\n",
              "          google.colab.kernel.accessAllowed ? 'block' : 'none';\n",
              "\n",
              "        async function convertToInteractive(key) {\n",
              "          const element = document.querySelector('#df-523969dc-93d3-4aaa-8dd0-b3ec0b000e50');\n",
              "          const dataTable =\n",
              "            await google.colab.kernel.invokeFunction('convertToInteractive',\n",
              "                                                     [key], {});\n",
              "          if (!dataTable) return;\n",
              "\n",
              "          const docLinkHtml = 'Like what you see? Visit the ' +\n",
              "            '<a target=\"_blank\" href=https://colab.research.google.com/notebooks/data_table.ipynb>data table notebook</a>'\n",
              "            + ' to learn more about interactive tables.';\n",
              "          element.innerHTML = '';\n",
              "          dataTable['output_type'] = 'display_data';\n",
              "          await google.colab.output.renderOutput(dataTable, element);\n",
              "          const docLink = document.createElement('div');\n",
              "          docLink.innerHTML = docLinkHtml;\n",
              "          element.appendChild(docLink);\n",
              "        }\n",
              "      </script>\n",
              "    </div>\n",
              "  </div>\n",
              "  "
            ]
          },
          "metadata": {},
          "execution_count": 10
        }
      ]
    },
    {
      "cell_type": "code",
      "source": [
        "df_cost_v1.info()"
      ],
      "metadata": {
        "colab": {
          "base_uri": "https://localhost:8080/"
        },
        "id": "9xBvsz1dtXpb",
        "outputId": "cd129877-2c0c-44c1-ac3d-fd28ef665162"
      },
      "execution_count": 11,
      "outputs": [
        {
          "output_type": "stream",
          "name": "stdout",
          "text": [
            "<class 'pandas.core.frame.DataFrame'>\n",
            "RangeIndex: 435 entries, 0 to 434\n",
            "Data columns (total 4 columns):\n",
            " #   Column       Non-Null Count  Dtype  \n",
            "---  ------       --------------  -----  \n",
            " 0   MediaSource  435 non-null    object \n",
            " 1   CampaignID   435 non-null    object \n",
            " 2   Country      431 non-null    object \n",
            " 3   Cost         435 non-null    float64\n",
            "dtypes: float64(1), object(3)\n",
            "memory usage: 13.7+ KB\n"
          ]
        }
      ]
    },
    {
      "cell_type": "markdown",
      "source": [
        "Cost_v2 - кампании и их стоимость"
      ],
      "metadata": {
        "id": "esDxC4dVtdsI"
      }
    },
    {
      "cell_type": "code",
      "source": [
        "df_cost_v2 = pd.read_excel('/content/drive/MyDrive/dataset_kefir.xlsx', sheet_name='Cost_v2')"
      ],
      "metadata": {
        "id": "odBrWDW9tdF4"
      },
      "execution_count": 12,
      "outputs": []
    },
    {
      "cell_type": "code",
      "source": [
        "df_cost_v2.head(4)"
      ],
      "metadata": {
        "colab": {
          "base_uri": "https://localhost:8080/",
          "height": 175
        },
        "id": "FratGTaSthBZ",
        "outputId": "fe050a60-95b5-4b10-bd86-07055c92bd3a"
      },
      "execution_count": 14,
      "outputs": [
        {
          "output_type": "execute_result",
          "data": {
            "text/plain": [
              "    MediaSource   CampaignID  Channel         Cost\n",
              "0  MediaSource1  19560308588  Network  2594.512900\n",
              "1  MediaSource1  19560305480  Network  2661.085983\n",
              "2  MediaSource1  19560308588   Search  1206.427759\n",
              "3  MediaSource1  19560305480   Search  1105.145814"
            ],
            "text/html": [
              "\n",
              "  <div id=\"df-696c7c70-fb1e-4296-b56d-6fe7c98e7aac\">\n",
              "    <div class=\"colab-df-container\">\n",
              "      <div>\n",
              "<style scoped>\n",
              "    .dataframe tbody tr th:only-of-type {\n",
              "        vertical-align: middle;\n",
              "    }\n",
              "\n",
              "    .dataframe tbody tr th {\n",
              "        vertical-align: top;\n",
              "    }\n",
              "\n",
              "    .dataframe thead th {\n",
              "        text-align: right;\n",
              "    }\n",
              "</style>\n",
              "<table border=\"1\" class=\"dataframe\">\n",
              "  <thead>\n",
              "    <tr style=\"text-align: right;\">\n",
              "      <th></th>\n",
              "      <th>MediaSource</th>\n",
              "      <th>CampaignID</th>\n",
              "      <th>Channel</th>\n",
              "      <th>Cost</th>\n",
              "    </tr>\n",
              "  </thead>\n",
              "  <tbody>\n",
              "    <tr>\n",
              "      <th>0</th>\n",
              "      <td>MediaSource1</td>\n",
              "      <td>19560308588</td>\n",
              "      <td>Network</td>\n",
              "      <td>2594.512900</td>\n",
              "    </tr>\n",
              "    <tr>\n",
              "      <th>1</th>\n",
              "      <td>MediaSource1</td>\n",
              "      <td>19560305480</td>\n",
              "      <td>Network</td>\n",
              "      <td>2661.085983</td>\n",
              "    </tr>\n",
              "    <tr>\n",
              "      <th>2</th>\n",
              "      <td>MediaSource1</td>\n",
              "      <td>19560308588</td>\n",
              "      <td>Search</td>\n",
              "      <td>1206.427759</td>\n",
              "    </tr>\n",
              "    <tr>\n",
              "      <th>3</th>\n",
              "      <td>MediaSource1</td>\n",
              "      <td>19560305480</td>\n",
              "      <td>Search</td>\n",
              "      <td>1105.145814</td>\n",
              "    </tr>\n",
              "  </tbody>\n",
              "</table>\n",
              "</div>\n",
              "      <button class=\"colab-df-convert\" onclick=\"convertToInteractive('df-696c7c70-fb1e-4296-b56d-6fe7c98e7aac')\"\n",
              "              title=\"Convert this dataframe to an interactive table.\"\n",
              "              style=\"display:none;\">\n",
              "        \n",
              "  <svg xmlns=\"http://www.w3.org/2000/svg\" height=\"24px\"viewBox=\"0 0 24 24\"\n",
              "       width=\"24px\">\n",
              "    <path d=\"M0 0h24v24H0V0z\" fill=\"none\"/>\n",
              "    <path d=\"M18.56 5.44l.94 2.06.94-2.06 2.06-.94-2.06-.94-.94-2.06-.94 2.06-2.06.94zm-11 1L8.5 8.5l.94-2.06 2.06-.94-2.06-.94L8.5 2.5l-.94 2.06-2.06.94zm10 10l.94 2.06.94-2.06 2.06-.94-2.06-.94-.94-2.06-.94 2.06-2.06.94z\"/><path d=\"M17.41 7.96l-1.37-1.37c-.4-.4-.92-.59-1.43-.59-.52 0-1.04.2-1.43.59L10.3 9.45l-7.72 7.72c-.78.78-.78 2.05 0 2.83L4 21.41c.39.39.9.59 1.41.59.51 0 1.02-.2 1.41-.59l7.78-7.78 2.81-2.81c.8-.78.8-2.07 0-2.86zM5.41 20L4 18.59l7.72-7.72 1.47 1.35L5.41 20z\"/>\n",
              "  </svg>\n",
              "      </button>\n",
              "      \n",
              "  <style>\n",
              "    .colab-df-container {\n",
              "      display:flex;\n",
              "      flex-wrap:wrap;\n",
              "      gap: 12px;\n",
              "    }\n",
              "\n",
              "    .colab-df-convert {\n",
              "      background-color: #E8F0FE;\n",
              "      border: none;\n",
              "      border-radius: 50%;\n",
              "      cursor: pointer;\n",
              "      display: none;\n",
              "      fill: #1967D2;\n",
              "      height: 32px;\n",
              "      padding: 0 0 0 0;\n",
              "      width: 32px;\n",
              "    }\n",
              "\n",
              "    .colab-df-convert:hover {\n",
              "      background-color: #E2EBFA;\n",
              "      box-shadow: 0px 1px 2px rgba(60, 64, 67, 0.3), 0px 1px 3px 1px rgba(60, 64, 67, 0.15);\n",
              "      fill: #174EA6;\n",
              "    }\n",
              "\n",
              "    [theme=dark] .colab-df-convert {\n",
              "      background-color: #3B4455;\n",
              "      fill: #D2E3FC;\n",
              "    }\n",
              "\n",
              "    [theme=dark] .colab-df-convert:hover {\n",
              "      background-color: #434B5C;\n",
              "      box-shadow: 0px 1px 3px 1px rgba(0, 0, 0, 0.15);\n",
              "      filter: drop-shadow(0px 1px 2px rgba(0, 0, 0, 0.3));\n",
              "      fill: #FFFFFF;\n",
              "    }\n",
              "  </style>\n",
              "\n",
              "      <script>\n",
              "        const buttonEl =\n",
              "          document.querySelector('#df-696c7c70-fb1e-4296-b56d-6fe7c98e7aac button.colab-df-convert');\n",
              "        buttonEl.style.display =\n",
              "          google.colab.kernel.accessAllowed ? 'block' : 'none';\n",
              "\n",
              "        async function convertToInteractive(key) {\n",
              "          const element = document.querySelector('#df-696c7c70-fb1e-4296-b56d-6fe7c98e7aac');\n",
              "          const dataTable =\n",
              "            await google.colab.kernel.invokeFunction('convertToInteractive',\n",
              "                                                     [key], {});\n",
              "          if (!dataTable) return;\n",
              "\n",
              "          const docLinkHtml = 'Like what you see? Visit the ' +\n",
              "            '<a target=\"_blank\" href=https://colab.research.google.com/notebooks/data_table.ipynb>data table notebook</a>'\n",
              "            + ' to learn more about interactive tables.';\n",
              "          element.innerHTML = '';\n",
              "          dataTable['output_type'] = 'display_data';\n",
              "          await google.colab.output.renderOutput(dataTable, element);\n",
              "          const docLink = document.createElement('div');\n",
              "          docLink.innerHTML = docLinkHtml;\n",
              "          element.appendChild(docLink);\n",
              "        }\n",
              "      </script>\n",
              "    </div>\n",
              "  </div>\n",
              "  "
            ]
          },
          "metadata": {},
          "execution_count": 14
        }
      ]
    },
    {
      "cell_type": "code",
      "source": [
        "# Затраты на РК\n",
        "df_cost_v2.groupby('CampaignID')['Cost'].sum()"
      ],
      "metadata": {
        "colab": {
          "base_uri": "https://localhost:8080/"
        },
        "id": "qyaoJoR_nrAv",
        "outputId": "e5c34257-2471-4387-e93b-3acf1db7c52e"
      },
      "execution_count": 18,
      "outputs": [
        {
          "output_type": "execute_result",
          "data": {
            "text/plain": [
              "CampaignID\n",
              "19560305480          3778.663255\n",
              "19560308588          3887.534905\n",
              "lQX9cNlleNjAtuzw    12260.199500\n",
              "Name: Cost, dtype: float64"
            ]
          },
          "metadata": {},
          "execution_count": 18
        }
      ]
    },
    {
      "cell_type": "code",
      "source": [
        "df_cost_v2.info()"
      ],
      "metadata": {
        "colab": {
          "base_uri": "https://localhost:8080/"
        },
        "id": "Bf8z2MYdtilJ",
        "outputId": "126a7268-7b34-4d58-8708-db9ca590cca0"
      },
      "execution_count": 15,
      "outputs": [
        {
          "output_type": "stream",
          "name": "stdout",
          "text": [
            "<class 'pandas.core.frame.DataFrame'>\n",
            "RangeIndex: 24 entries, 0 to 23\n",
            "Data columns (total 4 columns):\n",
            " #   Column       Non-Null Count  Dtype  \n",
            "---  ------       --------------  -----  \n",
            " 0   MediaSource  24 non-null     object \n",
            " 1   CampaignID   24 non-null     object \n",
            " 2   Channel      24 non-null     object \n",
            " 3   Cost         24 non-null     float64\n",
            "dtypes: float64(1), object(3)\n",
            "memory usage: 896.0+ bytes\n"
          ]
        }
      ]
    },
    {
      "cell_type": "markdown",
      "source": [
        "*1*) Каков CPI и ROAS для каждого источника трафика?"
      ],
      "metadata": {
        "id": "-lgnss4ftof0"
      }
    },
    {
      "cell_type": "markdown",
      "source": [
        "CPI"
      ],
      "metadata": {
        "id": "bCGrovPd1FBs"
      }
    },
    {
      "cell_type": "code",
      "source": [
        "# посчитаем затраты по источникам MediaSource\n",
        "df_cost_v2.groupby('MediaSource')['Cost'].sum()"
      ],
      "metadata": {
        "colab": {
          "base_uri": "https://localhost:8080/"
        },
        "id": "WPAAhUnntkxO",
        "outputId": "b26bf46c-f8c1-4234-a4cf-2e6b1a7e8a2d"
      },
      "execution_count": 19,
      "outputs": [
        {
          "output_type": "execute_result",
          "data": {
            "text/plain": [
              "MediaSource\n",
              "MediaSource1     7666.19816\n",
              "MediaSource2    12260.19950\n",
              "Name: Cost, dtype: float64"
            ]
          },
          "metadata": {},
          "execution_count": 19
        }
      ]
    },
    {
      "cell_type": "code",
      "source": [
        "# посчитаем кол-во скачиваний по источнику\n",
        "df_installs.groupby('MediaSource')['MediaSource'].count()"
      ],
      "metadata": {
        "colab": {
          "base_uri": "https://localhost:8080/"
        },
        "id": "mpycgqapt142",
        "outputId": "dcb1eeb7-2abe-4709-b9b6-896d39a2d52a"
      },
      "execution_count": 20,
      "outputs": [
        {
          "output_type": "execute_result",
          "data": {
            "text/plain": [
              "MediaSource\n",
              "MediaSource1    19717\n",
              "MediaSource2     2699\n",
              "Name: MediaSource, dtype: int64"
            ]
          },
          "metadata": {},
          "execution_count": 20
        }
      ]
    },
    {
      "cell_type": "code",
      "source": [
        "cpi_md1 = df_cost_v2.groupby('MediaSource')['Cost'].sum()[0]/df_installs.groupby('MediaSource')['MediaSource'].count()[0]\n",
        "cpi_md2 = df_cost_v2.groupby('MediaSource')['Cost'].sum()[1]/df_installs.groupby('MediaSource')['MediaSource'].count()[1]"
      ],
      "metadata": {
        "id": "0qbfrcigt11J"
      },
      "execution_count": 21,
      "outputs": []
    },
    {
      "cell_type": "code",
      "source": [
        "print(f'MediaSource1 : CPI - {cpi_md1.round(2)} $')\n",
        "print(f'MediaSource2 : CPI - {cpi_md2.round(2)} $')"
      ],
      "metadata": {
        "colab": {
          "base_uri": "https://localhost:8080/"
        },
        "id": "yaObvqmEt13m",
        "outputId": "337296e4-254a-4334-cdb5-9d73b3200d58"
      },
      "execution_count": 22,
      "outputs": [
        {
          "output_type": "stream",
          "name": "stdout",
          "text": [
            "MediaSource1 : CPI - 0.39 $\n",
            "MediaSource2 : CPI - 4.54 $\n"
          ]
        }
      ]
    },
    {
      "cell_type": "markdown",
      "source": [
        "ROAS"
      ],
      "metadata": {
        "id": "F1d0QGVx2vt8"
      }
    },
    {
      "cell_type": "code",
      "source": [
        "# Доход от каждого источника трафика\n",
        "df_payments.merge(df_installs[['UserID', 'MediaSource']], on='UserID', how='left').groupby('MediaSource')['PaymentRevenue'].sum()"
      ],
      "metadata": {
        "colab": {
          "base_uri": "https://localhost:8080/"
        },
        "id": "pPXiFs7Nt1x1",
        "outputId": "d244e242-623c-42a5-e473-78b6737f9563"
      },
      "execution_count": 23,
      "outputs": [
        {
          "output_type": "execute_result",
          "data": {
            "text/plain": [
              "MediaSource\n",
              "MediaSource1    4977.337570\n",
              "MediaSource2    6857.231789\n",
              "Name: PaymentRevenue, dtype: float64"
            ]
          },
          "metadata": {},
          "execution_count": 23
        }
      ]
    },
    {
      "cell_type": "code",
      "source": [
        "roas_md1 = df_payments.merge(df_installs[['UserID', 'MediaSource']], on='UserID', how='left').groupby('MediaSource')['PaymentRevenue'].sum()[0]/df_cots_v2.groupby('MediaSource')['Cost'].sum()[0]\n",
        "roas_md2 = df_payments.merge(df_installs[['UserID', 'MediaSource']], on='UserID', how='left').groupby('MediaSource')['PaymentRevenue'].sum()[1]/df_cots_v2.groupby('MediaSource')['Cost'].sum()[1]"
      ],
      "metadata": {
        "id": "XueoqUsb4rzy"
      },
      "execution_count": 21,
      "outputs": []
    },
    {
      "cell_type": "code",
      "source": [
        "print(f'MediaSource1 : ROAS - {roas_md1.round(2)}')\n",
        "print(f'MediaSource2 : ROAS - {roas_md2.round(2)}')"
      ],
      "metadata": {
        "colab": {
          "base_uri": "https://localhost:8080/"
        },
        "id": "dqEE-oq046_q",
        "outputId": "5504ab6a-7bcb-4b47-e176-4355c7c6254b"
      },
      "execution_count": 22,
      "outputs": [
        {
          "output_type": "stream",
          "name": "stdout",
          "text": [
            "MediaSource1 : ROAS - 0.65\n",
            "MediaSource2 : ROAS - 0.56\n"
          ]
        }
      ]
    },
    {
      "cell_type": "markdown",
      "source": [
        "**2) Для MediaSource2 рассчитайте конверсию в платящего для пользователей, установивших приложение через Wi-Fi и без него. Достаточно ли данных, чтобы с 95% вероятностью утверждать, что влияние наличия Wi-Fi имеет влияние на конверсию в платящего? Обоснуйте.**"
      ],
      "metadata": {
        "id": "HxMjpNlf6dWA"
      }
    },
    {
      "cell_type": "markdown",
      "source": [
        "Конверсия в платещего с вифи или без"
      ],
      "metadata": {
        "id": "9u8d7j71flf0"
      }
    },
    {
      "cell_type": "code",
      "source": [
        "count_wifi = df_installs.query('Wifi == True and MediaSource == \"MediaSource2\"')['MediaSource'].count()\n",
        "count_no_wifi = df_installs.query('Wifi == False and MediaSource == \"MediaSource2\"')['MediaSource'].count()"
      ],
      "metadata": {
        "id": "TxXIUIim-U4R"
      },
      "execution_count": 23,
      "outputs": []
    },
    {
      "cell_type": "code",
      "source": [
        "print(f'Кол-во установок c помощью Wi-fi - {count_wifi}')\n",
        "print(f'Кол-во установок c без использования Wi-fi - {count_no_wifi}')"
      ],
      "metadata": {
        "colab": {
          "base_uri": "https://localhost:8080/"
        },
        "id": "ygJ_aleTgjSH",
        "outputId": "2a535cc5-5fc6-4253-b2ec-248a2122da19"
      },
      "execution_count": 24,
      "outputs": [
        {
          "output_type": "stream",
          "name": "stdout",
          "text": [
            "Кол-во установок c помощью Wi-fi - 1711\n",
            "Кол-во установок c без использования Wi-fi - 988\n"
          ]
        }
      ]
    },
    {
      "cell_type": "code",
      "source": [
        "df_ms2 = df_installs.query('MediaSource == \"MediaSource2\"')[['UserID', 'Wifi']].merge(df_payments.groupby('UserID')['PaymentRevenue'].sum(), on='UserID', how='left').fillna(0)"
      ],
      "metadata": {
        "id": "S7AxmsDjt1v9"
      },
      "execution_count": 25,
      "outputs": []
    },
    {
      "cell_type": "code",
      "source": [
        "df_ms2.sample(4)"
      ],
      "metadata": {
        "colab": {
          "base_uri": "https://localhost:8080/",
          "height": 175
        },
        "id": "frKvKOUXf5QR",
        "outputId": "0011563d-f0e8-4404-80fb-8b30acc65ef1"
      },
      "execution_count": 26,
      "outputs": [
        {
          "output_type": "execute_result",
          "data": {
            "text/plain": [
              "                                 UserID  Wifi  PaymentRevenue\n",
              "262   1674352832421-5885321291403003920  True            0.00\n",
              "2157  1673542936766-8087092629709112870  True            9.99\n",
              "292   1674967320184-3905686691832367176  True            0.00\n",
              "867   1672670279808-1130321186590138414  True            0.00"
            ],
            "text/html": [
              "\n",
              "  <div id=\"df-da291c5d-b265-41e8-adfb-69e72ab1a238\">\n",
              "    <div class=\"colab-df-container\">\n",
              "      <div>\n",
              "<style scoped>\n",
              "    .dataframe tbody tr th:only-of-type {\n",
              "        vertical-align: middle;\n",
              "    }\n",
              "\n",
              "    .dataframe tbody tr th {\n",
              "        vertical-align: top;\n",
              "    }\n",
              "\n",
              "    .dataframe thead th {\n",
              "        text-align: right;\n",
              "    }\n",
              "</style>\n",
              "<table border=\"1\" class=\"dataframe\">\n",
              "  <thead>\n",
              "    <tr style=\"text-align: right;\">\n",
              "      <th></th>\n",
              "      <th>UserID</th>\n",
              "      <th>Wifi</th>\n",
              "      <th>PaymentRevenue</th>\n",
              "    </tr>\n",
              "  </thead>\n",
              "  <tbody>\n",
              "    <tr>\n",
              "      <th>262</th>\n",
              "      <td>1674352832421-5885321291403003920</td>\n",
              "      <td>True</td>\n",
              "      <td>0.00</td>\n",
              "    </tr>\n",
              "    <tr>\n",
              "      <th>2157</th>\n",
              "      <td>1673542936766-8087092629709112870</td>\n",
              "      <td>True</td>\n",
              "      <td>9.99</td>\n",
              "    </tr>\n",
              "    <tr>\n",
              "      <th>292</th>\n",
              "      <td>1674967320184-3905686691832367176</td>\n",
              "      <td>True</td>\n",
              "      <td>0.00</td>\n",
              "    </tr>\n",
              "    <tr>\n",
              "      <th>867</th>\n",
              "      <td>1672670279808-1130321186590138414</td>\n",
              "      <td>True</td>\n",
              "      <td>0.00</td>\n",
              "    </tr>\n",
              "  </tbody>\n",
              "</table>\n",
              "</div>\n",
              "      <button class=\"colab-df-convert\" onclick=\"convertToInteractive('df-da291c5d-b265-41e8-adfb-69e72ab1a238')\"\n",
              "              title=\"Convert this dataframe to an interactive table.\"\n",
              "              style=\"display:none;\">\n",
              "        \n",
              "  <svg xmlns=\"http://www.w3.org/2000/svg\" height=\"24px\"viewBox=\"0 0 24 24\"\n",
              "       width=\"24px\">\n",
              "    <path d=\"M0 0h24v24H0V0z\" fill=\"none\"/>\n",
              "    <path d=\"M18.56 5.44l.94 2.06.94-2.06 2.06-.94-2.06-.94-.94-2.06-.94 2.06-2.06.94zm-11 1L8.5 8.5l.94-2.06 2.06-.94-2.06-.94L8.5 2.5l-.94 2.06-2.06.94zm10 10l.94 2.06.94-2.06 2.06-.94-2.06-.94-.94-2.06-.94 2.06-2.06.94z\"/><path d=\"M17.41 7.96l-1.37-1.37c-.4-.4-.92-.59-1.43-.59-.52 0-1.04.2-1.43.59L10.3 9.45l-7.72 7.72c-.78.78-.78 2.05 0 2.83L4 21.41c.39.39.9.59 1.41.59.51 0 1.02-.2 1.41-.59l7.78-7.78 2.81-2.81c.8-.78.8-2.07 0-2.86zM5.41 20L4 18.59l7.72-7.72 1.47 1.35L5.41 20z\"/>\n",
              "  </svg>\n",
              "      </button>\n",
              "      \n",
              "  <style>\n",
              "    .colab-df-container {\n",
              "      display:flex;\n",
              "      flex-wrap:wrap;\n",
              "      gap: 12px;\n",
              "    }\n",
              "\n",
              "    .colab-df-convert {\n",
              "      background-color: #E8F0FE;\n",
              "      border: none;\n",
              "      border-radius: 50%;\n",
              "      cursor: pointer;\n",
              "      display: none;\n",
              "      fill: #1967D2;\n",
              "      height: 32px;\n",
              "      padding: 0 0 0 0;\n",
              "      width: 32px;\n",
              "    }\n",
              "\n",
              "    .colab-df-convert:hover {\n",
              "      background-color: #E2EBFA;\n",
              "      box-shadow: 0px 1px 2px rgba(60, 64, 67, 0.3), 0px 1px 3px 1px rgba(60, 64, 67, 0.15);\n",
              "      fill: #174EA6;\n",
              "    }\n",
              "\n",
              "    [theme=dark] .colab-df-convert {\n",
              "      background-color: #3B4455;\n",
              "      fill: #D2E3FC;\n",
              "    }\n",
              "\n",
              "    [theme=dark] .colab-df-convert:hover {\n",
              "      background-color: #434B5C;\n",
              "      box-shadow: 0px 1px 3px 1px rgba(0, 0, 0, 0.15);\n",
              "      filter: drop-shadow(0px 1px 2px rgba(0, 0, 0, 0.3));\n",
              "      fill: #FFFFFF;\n",
              "    }\n",
              "  </style>\n",
              "\n",
              "      <script>\n",
              "        const buttonEl =\n",
              "          document.querySelector('#df-da291c5d-b265-41e8-adfb-69e72ab1a238 button.colab-df-convert');\n",
              "        buttonEl.style.display =\n",
              "          google.colab.kernel.accessAllowed ? 'block' : 'none';\n",
              "\n",
              "        async function convertToInteractive(key) {\n",
              "          const element = document.querySelector('#df-da291c5d-b265-41e8-adfb-69e72ab1a238');\n",
              "          const dataTable =\n",
              "            await google.colab.kernel.invokeFunction('convertToInteractive',\n",
              "                                                     [key], {});\n",
              "          if (!dataTable) return;\n",
              "\n",
              "          const docLinkHtml = 'Like what you see? Visit the ' +\n",
              "            '<a target=\"_blank\" href=https://colab.research.google.com/notebooks/data_table.ipynb>data table notebook</a>'\n",
              "            + ' to learn more about interactive tables.';\n",
              "          element.innerHTML = '';\n",
              "          dataTable['output_type'] = 'display_data';\n",
              "          await google.colab.output.renderOutput(dataTable, element);\n",
              "          const docLink = document.createElement('div');\n",
              "          docLink.innerHTML = docLinkHtml;\n",
              "          element.appendChild(docLink);\n",
              "        }\n",
              "      </script>\n",
              "    </div>\n",
              "  </div>\n",
              "  "
            ]
          },
          "metadata": {},
          "execution_count": 26
        }
      ]
    },
    {
      "cell_type": "code",
      "source": [
        "count_pay_wifi = df_ms2.query('Wifi == True and PaymentRevenue > 0').count()[0]\n",
        "count_pay_no_wifi = df_ms2.query('Wifi == False and PaymentRevenue > 0').count()[0]\n",
        "print(f'Кол-во платящих , установленных по Wi-fi - {count_pay_wifi}')\n",
        "print(f'Кол-во платящих , установленных без Wi-fi - {count_pay_no_wifi}')"
      ],
      "metadata": {
        "colab": {
          "base_uri": "https://localhost:8080/"
        },
        "id": "Z4zJTt-proGE",
        "outputId": "c6dbbe44-aefc-4141-a7a5-a11de2eb5970"
      },
      "execution_count": 27,
      "outputs": [
        {
          "output_type": "stream",
          "name": "stdout",
          "text": [
            "Кол-во платящих , установленных по Wi-fi - 104\n",
            "Кол-во платящих , установленных без Wi-fi - 72\n"
          ]
        }
      ]
    },
    {
      "cell_type": "code",
      "source": [
        "print(f'Конверсию в платящего для пользователей из истоника MediaSource2, установивших приложение через Wi-Fi - {(count_pay_wifi*100/count_wifi).round(1)}%')\n",
        "print(f'Конверсию в платящего для пользователей из истоника MediaSource2, установивших приложение без Wi-Fi - {(count_pay_no_wifi*100/count_no_wifi).round(1)}%')"
      ],
      "metadata": {
        "colab": {
          "base_uri": "https://localhost:8080/"
        },
        "id": "I5_oap9xtliN",
        "outputId": "531735f0-2c99-49fc-cab3-671628cc5017"
      },
      "execution_count": 45,
      "outputs": [
        {
          "output_type": "stream",
          "name": "stdout",
          "text": [
            "Конверсию в платящего для пользователей из истоника MediaSource2, установивших приложение через Wi-Fi - 6.1%\n",
            "Конверсию в платящего для пользователей из истоника MediaSource2, установивших приложение без Wi-Fi - 7.3%\n"
          ]
        }
      ]
    },
    {
      "cell_type": "markdown",
      "source": [
        "P.S. в листе cost v1 затесалась одна строка\n",
        "\n",
        "MediaSource2\tlQX9cNlleNjAtuzw\tUS\t12260,1995\n",
        "\n",
        "В рассчеты я ее не учитывал исходя , из ошибочного добавления или дублирования данной строки."
      ],
      "metadata": {
        "id": "1yb7HprJev_k"
      }
    },
    {
      "cell_type": "markdown",
      "source": [
        "Для проверки статистической значимости различия между конверсиями,\n",
        "воспользуемся  тестом на разность долей.\n",
        "\n",
        "Нулевая гипотеза (H0): Наличие Wi-Fi не оказывает влияния на конверсию в платящего пользователей.\n",
        "Альтернативная гипотеза (H1): Наличие Wi-Fi оказывает влияние на конверсию в платящего пользователей.\n",
        "\n"
      ],
      "metadata": {
        "id": "yWjQd1nlwAp6"
      }
    },
    {
      "cell_type": "code",
      "source": [
        "import statsmodels.api as sm\n",
        "\n",
        "# Создание массивов данных для теста на разность долей\n",
        "successes = [count_pay_wifi, count_pay_no_wifi]\n",
        "nobs = [count_wifi, count_no_wifi]\n",
        "\n",
        "# Выполнение теста на разность долей\n",
        "zscore, pvalue = sm.stats.proportions_ztest(successes, nobs)\n",
        "\n",
        "# Вывод результатов теста\n",
        "print(f\"Z-score: {zscore.round(2)}\")\n",
        "print(f\"P-value: {pvalue.round(2)}\")"
      ],
      "metadata": {
        "colab": {
          "base_uri": "https://localhost:8080/"
        },
        "id": "nEo3d62Ou7Vz",
        "outputId": "06c38535-a4c4-41f4-c641-9d4825130060"
      },
      "execution_count": 29,
      "outputs": [
        {
          "output_type": "stream",
          "name": "stdout",
          "text": [
            "Z-score: -1.23\n",
            "P-value: 0.22\n"
          ]
        }
      ]
    },
    {
      "cell_type": "markdown",
      "source": [
        "P-value равно 0.22, что представляет вероятность получить такие или более экстремальные различия между группами (Wi-Fi и без Wi-Fi) при условии, что нулевая гипотеза верна (то есть, что наличие Wi-Fi не оказывает влияния на конверсию в платящего). Значение p-value равно 0.22, что больше обычно выбранного уровня значимости 0.05."
      ],
      "metadata": {
        "id": "qxh03Se4yPtL"
      }
    },
    {
      "cell_type": "markdown",
      "source": [
        "**3) Выработайте ряд рекомендаций для оптимизации рекламных кампаний, считайте, что ограничений на оптимизацию нет, ваша цель - поднять прибыльность и эффективность маркетинговых кампаний на текущих источниках.**"
      ],
      "metadata": {
        "id": "IV19xgMVyqdy"
      }
    },
    {
      "cell_type": "markdown",
      "source": [
        "Для решения данного вопроса, будем работать с рекламными компаниями из источника MediaSource1"
      ],
      "metadata": {
        "id": "CksJ-QXWVOoY"
      }
    },
    {
      "cell_type": "code",
      "source": [
        "df_ms1 = df_installs.query('MediaSource == \"MediaSource1\"')[['CampaignID', 'Channel', 'Country', 'Wifi', 'UserID', 'OSVersion']]\n",
        "df_ms1.sample(4)"
      ],
      "metadata": {
        "colab": {
          "base_uri": "https://localhost:8080/",
          "height": 175
        },
        "id": "VGVMiA-XzbXV",
        "outputId": "1d1769c8-1c93-4b38-ee93-fc62c11604c7"
      },
      "execution_count": 18,
      "outputs": [
        {
          "output_type": "execute_result",
          "data": {
            "text/plain": [
              "        CampaignID  Channel Country  Wifi                             UserID  \\\n",
              "15853  19560305480  Network      MN  True  1674112508499-6366352125753461713   \n",
              "4657   19560308588  Network      CL  True   1673833081728-507700146714314965   \n",
              "7859   19560305480  Network      CL  True  1674946481940-9080669291718269051   \n",
              "12945  19560308588  Network      JP  True  1674822855130-7593899074878987041   \n",
              "\n",
              "       OSVersion  \n",
              "15853         10  \n",
              "4657          12  \n",
              "7859          12  \n",
              "12945         11  "
            ],
            "text/html": [
              "\n",
              "  <div id=\"df-1e478c8b-f311-415a-9da7-f150c16764b8\">\n",
              "    <div class=\"colab-df-container\">\n",
              "      <div>\n",
              "<style scoped>\n",
              "    .dataframe tbody tr th:only-of-type {\n",
              "        vertical-align: middle;\n",
              "    }\n",
              "\n",
              "    .dataframe tbody tr th {\n",
              "        vertical-align: top;\n",
              "    }\n",
              "\n",
              "    .dataframe thead th {\n",
              "        text-align: right;\n",
              "    }\n",
              "</style>\n",
              "<table border=\"1\" class=\"dataframe\">\n",
              "  <thead>\n",
              "    <tr style=\"text-align: right;\">\n",
              "      <th></th>\n",
              "      <th>CampaignID</th>\n",
              "      <th>Channel</th>\n",
              "      <th>Country</th>\n",
              "      <th>Wifi</th>\n",
              "      <th>UserID</th>\n",
              "      <th>OSVersion</th>\n",
              "    </tr>\n",
              "  </thead>\n",
              "  <tbody>\n",
              "    <tr>\n",
              "      <th>15853</th>\n",
              "      <td>19560305480</td>\n",
              "      <td>Network</td>\n",
              "      <td>MN</td>\n",
              "      <td>True</td>\n",
              "      <td>1674112508499-6366352125753461713</td>\n",
              "      <td>10</td>\n",
              "    </tr>\n",
              "    <tr>\n",
              "      <th>4657</th>\n",
              "      <td>19560308588</td>\n",
              "      <td>Network</td>\n",
              "      <td>CL</td>\n",
              "      <td>True</td>\n",
              "      <td>1673833081728-507700146714314965</td>\n",
              "      <td>12</td>\n",
              "    </tr>\n",
              "    <tr>\n",
              "      <th>7859</th>\n",
              "      <td>19560305480</td>\n",
              "      <td>Network</td>\n",
              "      <td>CL</td>\n",
              "      <td>True</td>\n",
              "      <td>1674946481940-9080669291718269051</td>\n",
              "      <td>12</td>\n",
              "    </tr>\n",
              "    <tr>\n",
              "      <th>12945</th>\n",
              "      <td>19560308588</td>\n",
              "      <td>Network</td>\n",
              "      <td>JP</td>\n",
              "      <td>True</td>\n",
              "      <td>1674822855130-7593899074878987041</td>\n",
              "      <td>11</td>\n",
              "    </tr>\n",
              "  </tbody>\n",
              "</table>\n",
              "</div>\n",
              "      <button class=\"colab-df-convert\" onclick=\"convertToInteractive('df-1e478c8b-f311-415a-9da7-f150c16764b8')\"\n",
              "              title=\"Convert this dataframe to an interactive table.\"\n",
              "              style=\"display:none;\">\n",
              "        \n",
              "  <svg xmlns=\"http://www.w3.org/2000/svg\" height=\"24px\"viewBox=\"0 0 24 24\"\n",
              "       width=\"24px\">\n",
              "    <path d=\"M0 0h24v24H0V0z\" fill=\"none\"/>\n",
              "    <path d=\"M18.56 5.44l.94 2.06.94-2.06 2.06-.94-2.06-.94-.94-2.06-.94 2.06-2.06.94zm-11 1L8.5 8.5l.94-2.06 2.06-.94-2.06-.94L8.5 2.5l-.94 2.06-2.06.94zm10 10l.94 2.06.94-2.06 2.06-.94-2.06-.94-.94-2.06-.94 2.06-2.06.94z\"/><path d=\"M17.41 7.96l-1.37-1.37c-.4-.4-.92-.59-1.43-.59-.52 0-1.04.2-1.43.59L10.3 9.45l-7.72 7.72c-.78.78-.78 2.05 0 2.83L4 21.41c.39.39.9.59 1.41.59.51 0 1.02-.2 1.41-.59l7.78-7.78 2.81-2.81c.8-.78.8-2.07 0-2.86zM5.41 20L4 18.59l7.72-7.72 1.47 1.35L5.41 20z\"/>\n",
              "  </svg>\n",
              "      </button>\n",
              "      \n",
              "  <style>\n",
              "    .colab-df-container {\n",
              "      display:flex;\n",
              "      flex-wrap:wrap;\n",
              "      gap: 12px;\n",
              "    }\n",
              "\n",
              "    .colab-df-convert {\n",
              "      background-color: #E8F0FE;\n",
              "      border: none;\n",
              "      border-radius: 50%;\n",
              "      cursor: pointer;\n",
              "      display: none;\n",
              "      fill: #1967D2;\n",
              "      height: 32px;\n",
              "      padding: 0 0 0 0;\n",
              "      width: 32px;\n",
              "    }\n",
              "\n",
              "    .colab-df-convert:hover {\n",
              "      background-color: #E2EBFA;\n",
              "      box-shadow: 0px 1px 2px rgba(60, 64, 67, 0.3), 0px 1px 3px 1px rgba(60, 64, 67, 0.15);\n",
              "      fill: #174EA6;\n",
              "    }\n",
              "\n",
              "    [theme=dark] .colab-df-convert {\n",
              "      background-color: #3B4455;\n",
              "      fill: #D2E3FC;\n",
              "    }\n",
              "\n",
              "    [theme=dark] .colab-df-convert:hover {\n",
              "      background-color: #434B5C;\n",
              "      box-shadow: 0px 1px 3px 1px rgba(0, 0, 0, 0.15);\n",
              "      filter: drop-shadow(0px 1px 2px rgba(0, 0, 0, 0.3));\n",
              "      fill: #FFFFFF;\n",
              "    }\n",
              "  </style>\n",
              "\n",
              "      <script>\n",
              "        const buttonEl =\n",
              "          document.querySelector('#df-1e478c8b-f311-415a-9da7-f150c16764b8 button.colab-df-convert');\n",
              "        buttonEl.style.display =\n",
              "          google.colab.kernel.accessAllowed ? 'block' : 'none';\n",
              "\n",
              "        async function convertToInteractive(key) {\n",
              "          const element = document.querySelector('#df-1e478c8b-f311-415a-9da7-f150c16764b8');\n",
              "          const dataTable =\n",
              "            await google.colab.kernel.invokeFunction('convertToInteractive',\n",
              "                                                     [key], {});\n",
              "          if (!dataTable) return;\n",
              "\n",
              "          const docLinkHtml = 'Like what you see? Visit the ' +\n",
              "            '<a target=\"_blank\" href=https://colab.research.google.com/notebooks/data_table.ipynb>data table notebook</a>'\n",
              "            + ' to learn more about interactive tables.';\n",
              "          element.innerHTML = '';\n",
              "          dataTable['output_type'] = 'display_data';\n",
              "          await google.colab.output.renderOutput(dataTable, element);\n",
              "          const docLink = document.createElement('div');\n",
              "          docLink.innerHTML = docLinkHtml;\n",
              "          element.appendChild(docLink);\n",
              "        }\n",
              "      </script>\n",
              "    </div>\n",
              "  </div>\n",
              "  "
            ]
          },
          "metadata": {},
          "execution_count": 18
        }
      ]
    },
    {
      "cell_type": "code",
      "source": [
        "df_ms1.shape"
      ],
      "metadata": {
        "colab": {
          "base_uri": "https://localhost:8080/"
        },
        "id": "D18JL2q_FXC8",
        "outputId": "f2ac5b4d-05e8-4cc1-a184-1a91bcaabb3c"
      },
      "execution_count": 34,
      "outputs": [
        {
          "output_type": "execute_result",
          "data": {
            "text/plain": [
              "(19717, 6)"
            ]
          },
          "metadata": {},
          "execution_count": 34
        }
      ]
    },
    {
      "cell_type": "code",
      "source": [
        "# Таблицы для каждой РК\n",
        "df_ms1_80 = df_ms1.query('CampaignID == 19560305480')\n",
        "df_ms1_88 = df_ms1.query('CampaignID == 19560308588')"
      ],
      "metadata": {
        "id": "daBqFaBDA0rz"
      },
      "execution_count": 32,
      "outputs": []
    },
    {
      "cell_type": "code",
      "source": [
        "df_cost_v1.query('CampaignID == 19560305480')[['Country', 'Cost']].head(3)"
      ],
      "metadata": {
        "colab": {
          "base_uri": "https://localhost:8080/",
          "height": 143
        },
        "id": "RasYGXuzID4u",
        "outputId": "d8d2285c-c5f3-461a-fea9-8570139909b8"
      },
      "execution_count": 77,
      "outputs": [
        {
          "output_type": "execute_result",
          "data": {
            "text/plain": [
              "  Country      Cost\n",
              "0      UG  0.628868\n",
              "1      MW  0.253214\n",
              "3      LR  0.046751"
            ],
            "text/html": [
              "\n",
              "  <div id=\"df-3aad86de-a951-4a2c-8201-5e2e052a60b7\">\n",
              "    <div class=\"colab-df-container\">\n",
              "      <div>\n",
              "<style scoped>\n",
              "    .dataframe tbody tr th:only-of-type {\n",
              "        vertical-align: middle;\n",
              "    }\n",
              "\n",
              "    .dataframe tbody tr th {\n",
              "        vertical-align: top;\n",
              "    }\n",
              "\n",
              "    .dataframe thead th {\n",
              "        text-align: right;\n",
              "    }\n",
              "</style>\n",
              "<table border=\"1\" class=\"dataframe\">\n",
              "  <thead>\n",
              "    <tr style=\"text-align: right;\">\n",
              "      <th></th>\n",
              "      <th>Country</th>\n",
              "      <th>Cost</th>\n",
              "    </tr>\n",
              "  </thead>\n",
              "  <tbody>\n",
              "    <tr>\n",
              "      <th>0</th>\n",
              "      <td>UG</td>\n",
              "      <td>0.628868</td>\n",
              "    </tr>\n",
              "    <tr>\n",
              "      <th>1</th>\n",
              "      <td>MW</td>\n",
              "      <td>0.253214</td>\n",
              "    </tr>\n",
              "    <tr>\n",
              "      <th>3</th>\n",
              "      <td>LR</td>\n",
              "      <td>0.046751</td>\n",
              "    </tr>\n",
              "  </tbody>\n",
              "</table>\n",
              "</div>\n",
              "      <button class=\"colab-df-convert\" onclick=\"convertToInteractive('df-3aad86de-a951-4a2c-8201-5e2e052a60b7')\"\n",
              "              title=\"Convert this dataframe to an interactive table.\"\n",
              "              style=\"display:none;\">\n",
              "        \n",
              "  <svg xmlns=\"http://www.w3.org/2000/svg\" height=\"24px\"viewBox=\"0 0 24 24\"\n",
              "       width=\"24px\">\n",
              "    <path d=\"M0 0h24v24H0V0z\" fill=\"none\"/>\n",
              "    <path d=\"M18.56 5.44l.94 2.06.94-2.06 2.06-.94-2.06-.94-.94-2.06-.94 2.06-2.06.94zm-11 1L8.5 8.5l.94-2.06 2.06-.94-2.06-.94L8.5 2.5l-.94 2.06-2.06.94zm10 10l.94 2.06.94-2.06 2.06-.94-2.06-.94-.94-2.06-.94 2.06-2.06.94z\"/><path d=\"M17.41 7.96l-1.37-1.37c-.4-.4-.92-.59-1.43-.59-.52 0-1.04.2-1.43.59L10.3 9.45l-7.72 7.72c-.78.78-.78 2.05 0 2.83L4 21.41c.39.39.9.59 1.41.59.51 0 1.02-.2 1.41-.59l7.78-7.78 2.81-2.81c.8-.78.8-2.07 0-2.86zM5.41 20L4 18.59l7.72-7.72 1.47 1.35L5.41 20z\"/>\n",
              "  </svg>\n",
              "      </button>\n",
              "      \n",
              "  <style>\n",
              "    .colab-df-container {\n",
              "      display:flex;\n",
              "      flex-wrap:wrap;\n",
              "      gap: 12px;\n",
              "    }\n",
              "\n",
              "    .colab-df-convert {\n",
              "      background-color: #E8F0FE;\n",
              "      border: none;\n",
              "      border-radius: 50%;\n",
              "      cursor: pointer;\n",
              "      display: none;\n",
              "      fill: #1967D2;\n",
              "      height: 32px;\n",
              "      padding: 0 0 0 0;\n",
              "      width: 32px;\n",
              "    }\n",
              "\n",
              "    .colab-df-convert:hover {\n",
              "      background-color: #E2EBFA;\n",
              "      box-shadow: 0px 1px 2px rgba(60, 64, 67, 0.3), 0px 1px 3px 1px rgba(60, 64, 67, 0.15);\n",
              "      fill: #174EA6;\n",
              "    }\n",
              "\n",
              "    [theme=dark] .colab-df-convert {\n",
              "      background-color: #3B4455;\n",
              "      fill: #D2E3FC;\n",
              "    }\n",
              "\n",
              "    [theme=dark] .colab-df-convert:hover {\n",
              "      background-color: #434B5C;\n",
              "      box-shadow: 0px 1px 3px 1px rgba(0, 0, 0, 0.15);\n",
              "      filter: drop-shadow(0px 1px 2px rgba(0, 0, 0, 0.3));\n",
              "      fill: #FFFFFF;\n",
              "    }\n",
              "  </style>\n",
              "\n",
              "      <script>\n",
              "        const buttonEl =\n",
              "          document.querySelector('#df-3aad86de-a951-4a2c-8201-5e2e052a60b7 button.colab-df-convert');\n",
              "        buttonEl.style.display =\n",
              "          google.colab.kernel.accessAllowed ? 'block' : 'none';\n",
              "\n",
              "        async function convertToInteractive(key) {\n",
              "          const element = document.querySelector('#df-3aad86de-a951-4a2c-8201-5e2e052a60b7');\n",
              "          const dataTable =\n",
              "            await google.colab.kernel.invokeFunction('convertToInteractive',\n",
              "                                                     [key], {});\n",
              "          if (!dataTable) return;\n",
              "\n",
              "          const docLinkHtml = 'Like what you see? Visit the ' +\n",
              "            '<a target=\"_blank\" href=https://colab.research.google.com/notebooks/data_table.ipynb>data table notebook</a>'\n",
              "            + ' to learn more about interactive tables.';\n",
              "          element.innerHTML = '';\n",
              "          dataTable['output_type'] = 'display_data';\n",
              "          await google.colab.output.renderOutput(dataTable, element);\n",
              "          const docLink = document.createElement('div');\n",
              "          docLink.innerHTML = docLinkHtml;\n",
              "          element.appendChild(docLink);\n",
              "        }\n",
              "      </script>\n",
              "    </div>\n",
              "  </div>\n",
              "  "
            ]
          },
          "metadata": {},
          "execution_count": 77
        }
      ]
    },
    {
      "cell_type": "code",
      "source": [
        "df_ms1_80.groupby('Country')['Country'].count().reset_index(name='Installs').head(3)"
      ],
      "metadata": {
        "colab": {
          "base_uri": "https://localhost:8080/",
          "height": 143
        },
        "id": "0j78mtZODJ3c",
        "outputId": "99df3cfc-e7b3-4c0e-f475-01b4941dd290"
      },
      "execution_count": 78,
      "outputs": [
        {
          "output_type": "execute_result",
          "data": {
            "text/plain": [
              "  Country  Installs\n",
              "0      AD         3\n",
              "1      AE         5\n",
              "2      AG         2"
            ],
            "text/html": [
              "\n",
              "  <div id=\"df-26673fcf-0cbf-4f43-bb53-58cbc25e2a81\">\n",
              "    <div class=\"colab-df-container\">\n",
              "      <div>\n",
              "<style scoped>\n",
              "    .dataframe tbody tr th:only-of-type {\n",
              "        vertical-align: middle;\n",
              "    }\n",
              "\n",
              "    .dataframe tbody tr th {\n",
              "        vertical-align: top;\n",
              "    }\n",
              "\n",
              "    .dataframe thead th {\n",
              "        text-align: right;\n",
              "    }\n",
              "</style>\n",
              "<table border=\"1\" class=\"dataframe\">\n",
              "  <thead>\n",
              "    <tr style=\"text-align: right;\">\n",
              "      <th></th>\n",
              "      <th>Country</th>\n",
              "      <th>Installs</th>\n",
              "    </tr>\n",
              "  </thead>\n",
              "  <tbody>\n",
              "    <tr>\n",
              "      <th>0</th>\n",
              "      <td>AD</td>\n",
              "      <td>3</td>\n",
              "    </tr>\n",
              "    <tr>\n",
              "      <th>1</th>\n",
              "      <td>AE</td>\n",
              "      <td>5</td>\n",
              "    </tr>\n",
              "    <tr>\n",
              "      <th>2</th>\n",
              "      <td>AG</td>\n",
              "      <td>2</td>\n",
              "    </tr>\n",
              "  </tbody>\n",
              "</table>\n",
              "</div>\n",
              "      <button class=\"colab-df-convert\" onclick=\"convertToInteractive('df-26673fcf-0cbf-4f43-bb53-58cbc25e2a81')\"\n",
              "              title=\"Convert this dataframe to an interactive table.\"\n",
              "              style=\"display:none;\">\n",
              "        \n",
              "  <svg xmlns=\"http://www.w3.org/2000/svg\" height=\"24px\"viewBox=\"0 0 24 24\"\n",
              "       width=\"24px\">\n",
              "    <path d=\"M0 0h24v24H0V0z\" fill=\"none\"/>\n",
              "    <path d=\"M18.56 5.44l.94 2.06.94-2.06 2.06-.94-2.06-.94-.94-2.06-.94 2.06-2.06.94zm-11 1L8.5 8.5l.94-2.06 2.06-.94-2.06-.94L8.5 2.5l-.94 2.06-2.06.94zm10 10l.94 2.06.94-2.06 2.06-.94-2.06-.94-.94-2.06-.94 2.06-2.06.94z\"/><path d=\"M17.41 7.96l-1.37-1.37c-.4-.4-.92-.59-1.43-.59-.52 0-1.04.2-1.43.59L10.3 9.45l-7.72 7.72c-.78.78-.78 2.05 0 2.83L4 21.41c.39.39.9.59 1.41.59.51 0 1.02-.2 1.41-.59l7.78-7.78 2.81-2.81c.8-.78.8-2.07 0-2.86zM5.41 20L4 18.59l7.72-7.72 1.47 1.35L5.41 20z\"/>\n",
              "  </svg>\n",
              "      </button>\n",
              "      \n",
              "  <style>\n",
              "    .colab-df-container {\n",
              "      display:flex;\n",
              "      flex-wrap:wrap;\n",
              "      gap: 12px;\n",
              "    }\n",
              "\n",
              "    .colab-df-convert {\n",
              "      background-color: #E8F0FE;\n",
              "      border: none;\n",
              "      border-radius: 50%;\n",
              "      cursor: pointer;\n",
              "      display: none;\n",
              "      fill: #1967D2;\n",
              "      height: 32px;\n",
              "      padding: 0 0 0 0;\n",
              "      width: 32px;\n",
              "    }\n",
              "\n",
              "    .colab-df-convert:hover {\n",
              "      background-color: #E2EBFA;\n",
              "      box-shadow: 0px 1px 2px rgba(60, 64, 67, 0.3), 0px 1px 3px 1px rgba(60, 64, 67, 0.15);\n",
              "      fill: #174EA6;\n",
              "    }\n",
              "\n",
              "    [theme=dark] .colab-df-convert {\n",
              "      background-color: #3B4455;\n",
              "      fill: #D2E3FC;\n",
              "    }\n",
              "\n",
              "    [theme=dark] .colab-df-convert:hover {\n",
              "      background-color: #434B5C;\n",
              "      box-shadow: 0px 1px 3px 1px rgba(0, 0, 0, 0.15);\n",
              "      filter: drop-shadow(0px 1px 2px rgba(0, 0, 0, 0.3));\n",
              "      fill: #FFFFFF;\n",
              "    }\n",
              "  </style>\n",
              "\n",
              "      <script>\n",
              "        const buttonEl =\n",
              "          document.querySelector('#df-26673fcf-0cbf-4f43-bb53-58cbc25e2a81 button.colab-df-convert');\n",
              "        buttonEl.style.display =\n",
              "          google.colab.kernel.accessAllowed ? 'block' : 'none';\n",
              "\n",
              "        async function convertToInteractive(key) {\n",
              "          const element = document.querySelector('#df-26673fcf-0cbf-4f43-bb53-58cbc25e2a81');\n",
              "          const dataTable =\n",
              "            await google.colab.kernel.invokeFunction('convertToInteractive',\n",
              "                                                     [key], {});\n",
              "          if (!dataTable) return;\n",
              "\n",
              "          const docLinkHtml = 'Like what you see? Visit the ' +\n",
              "            '<a target=\"_blank\" href=https://colab.research.google.com/notebooks/data_table.ipynb>data table notebook</a>'\n",
              "            + ' to learn more about interactive tables.';\n",
              "          element.innerHTML = '';\n",
              "          dataTable['output_type'] = 'display_data';\n",
              "          await google.colab.output.renderOutput(dataTable, element);\n",
              "          const docLink = document.createElement('div');\n",
              "          docLink.innerHTML = docLinkHtml;\n",
              "          element.appendChild(docLink);\n",
              "        }\n",
              "      </script>\n",
              "    </div>\n",
              "  </div>\n",
              "  "
            ]
          },
          "metadata": {},
          "execution_count": 78
        }
      ]
    },
    {
      "cell_type": "code",
      "source": [
        "df_ms1_80_reg_cpi = df_cost_v1.query('CampaignID == 19560305480')[['Country', 'Cost']].merge(df_ms1_80.groupby('Country')['Country'].count().reset_index(name='Installs'), on='Country', how='left').fillna(0)\n",
        "\n",
        "df_ms1_80_reg_cpi['CPI'] = df_ms1_80_reg_cpi['Cost'] / df_ms1_80_reg_cpi['Installs']\n",
        "df_ms1_80_reg_cpi['CPI'] = df_ms1_80_reg_cpi['CPI'].replace([np.inf, -np.inf], 0)\n",
        "df_ms1_80_reg_cpi.fillna(0, inplace=True)\n",
        "\n",
        "df_ms1_80_reg_cpi.sample(3)"
      ],
      "metadata": {
        "colab": {
          "base_uri": "https://localhost:8080/",
          "height": 143
        },
        "id": "b-6vrqHizbSx",
        "outputId": "3c3a1ab5-0c83-4c71-fda3-b7f209d43914"
      },
      "execution_count": 90,
      "outputs": [
        {
          "output_type": "execute_result",
          "data": {
            "text/plain": [
              "    Country       Cost  Installs       CPI\n",
              "102      PS   1.212685      26.0  0.046642\n",
              "213      LV  16.469726      41.0  0.401701\n",
              "209      KM   0.047379       0.0  0.000000"
            ],
            "text/html": [
              "\n",
              "  <div id=\"df-eec7b4ab-41ce-455a-b2fa-6ab46d4ffe28\">\n",
              "    <div class=\"colab-df-container\">\n",
              "      <div>\n",
              "<style scoped>\n",
              "    .dataframe tbody tr th:only-of-type {\n",
              "        vertical-align: middle;\n",
              "    }\n",
              "\n",
              "    .dataframe tbody tr th {\n",
              "        vertical-align: top;\n",
              "    }\n",
              "\n",
              "    .dataframe thead th {\n",
              "        text-align: right;\n",
              "    }\n",
              "</style>\n",
              "<table border=\"1\" class=\"dataframe\">\n",
              "  <thead>\n",
              "    <tr style=\"text-align: right;\">\n",
              "      <th></th>\n",
              "      <th>Country</th>\n",
              "      <th>Cost</th>\n",
              "      <th>Installs</th>\n",
              "      <th>CPI</th>\n",
              "    </tr>\n",
              "  </thead>\n",
              "  <tbody>\n",
              "    <tr>\n",
              "      <th>102</th>\n",
              "      <td>PS</td>\n",
              "      <td>1.212685</td>\n",
              "      <td>26.0</td>\n",
              "      <td>0.046642</td>\n",
              "    </tr>\n",
              "    <tr>\n",
              "      <th>213</th>\n",
              "      <td>LV</td>\n",
              "      <td>16.469726</td>\n",
              "      <td>41.0</td>\n",
              "      <td>0.401701</td>\n",
              "    </tr>\n",
              "    <tr>\n",
              "      <th>209</th>\n",
              "      <td>KM</td>\n",
              "      <td>0.047379</td>\n",
              "      <td>0.0</td>\n",
              "      <td>0.000000</td>\n",
              "    </tr>\n",
              "  </tbody>\n",
              "</table>\n",
              "</div>\n",
              "      <button class=\"colab-df-convert\" onclick=\"convertToInteractive('df-eec7b4ab-41ce-455a-b2fa-6ab46d4ffe28')\"\n",
              "              title=\"Convert this dataframe to an interactive table.\"\n",
              "              style=\"display:none;\">\n",
              "        \n",
              "  <svg xmlns=\"http://www.w3.org/2000/svg\" height=\"24px\"viewBox=\"0 0 24 24\"\n",
              "       width=\"24px\">\n",
              "    <path d=\"M0 0h24v24H0V0z\" fill=\"none\"/>\n",
              "    <path d=\"M18.56 5.44l.94 2.06.94-2.06 2.06-.94-2.06-.94-.94-2.06-.94 2.06-2.06.94zm-11 1L8.5 8.5l.94-2.06 2.06-.94-2.06-.94L8.5 2.5l-.94 2.06-2.06.94zm10 10l.94 2.06.94-2.06 2.06-.94-2.06-.94-.94-2.06-.94 2.06-2.06.94z\"/><path d=\"M17.41 7.96l-1.37-1.37c-.4-.4-.92-.59-1.43-.59-.52 0-1.04.2-1.43.59L10.3 9.45l-7.72 7.72c-.78.78-.78 2.05 0 2.83L4 21.41c.39.39.9.59 1.41.59.51 0 1.02-.2 1.41-.59l7.78-7.78 2.81-2.81c.8-.78.8-2.07 0-2.86zM5.41 20L4 18.59l7.72-7.72 1.47 1.35L5.41 20z\"/>\n",
              "  </svg>\n",
              "      </button>\n",
              "      \n",
              "  <style>\n",
              "    .colab-df-container {\n",
              "      display:flex;\n",
              "      flex-wrap:wrap;\n",
              "      gap: 12px;\n",
              "    }\n",
              "\n",
              "    .colab-df-convert {\n",
              "      background-color: #E8F0FE;\n",
              "      border: none;\n",
              "      border-radius: 50%;\n",
              "      cursor: pointer;\n",
              "      display: none;\n",
              "      fill: #1967D2;\n",
              "      height: 32px;\n",
              "      padding: 0 0 0 0;\n",
              "      width: 32px;\n",
              "    }\n",
              "\n",
              "    .colab-df-convert:hover {\n",
              "      background-color: #E2EBFA;\n",
              "      box-shadow: 0px 1px 2px rgba(60, 64, 67, 0.3), 0px 1px 3px 1px rgba(60, 64, 67, 0.15);\n",
              "      fill: #174EA6;\n",
              "    }\n",
              "\n",
              "    [theme=dark] .colab-df-convert {\n",
              "      background-color: #3B4455;\n",
              "      fill: #D2E3FC;\n",
              "    }\n",
              "\n",
              "    [theme=dark] .colab-df-convert:hover {\n",
              "      background-color: #434B5C;\n",
              "      box-shadow: 0px 1px 3px 1px rgba(0, 0, 0, 0.15);\n",
              "      filter: drop-shadow(0px 1px 2px rgba(0, 0, 0, 0.3));\n",
              "      fill: #FFFFFF;\n",
              "    }\n",
              "  </style>\n",
              "\n",
              "      <script>\n",
              "        const buttonEl =\n",
              "          document.querySelector('#df-eec7b4ab-41ce-455a-b2fa-6ab46d4ffe28 button.colab-df-convert');\n",
              "        buttonEl.style.display =\n",
              "          google.colab.kernel.accessAllowed ? 'block' : 'none';\n",
              "\n",
              "        async function convertToInteractive(key) {\n",
              "          const element = document.querySelector('#df-eec7b4ab-41ce-455a-b2fa-6ab46d4ffe28');\n",
              "          const dataTable =\n",
              "            await google.colab.kernel.invokeFunction('convertToInteractive',\n",
              "                                                     [key], {});\n",
              "          if (!dataTable) return;\n",
              "\n",
              "          const docLinkHtml = 'Like what you see? Visit the ' +\n",
              "            '<a target=\"_blank\" href=https://colab.research.google.com/notebooks/data_table.ipynb>data table notebook</a>'\n",
              "            + ' to learn more about interactive tables.';\n",
              "          element.innerHTML = '';\n",
              "          dataTable['output_type'] = 'display_data';\n",
              "          await google.colab.output.renderOutput(dataTable, element);\n",
              "          const docLink = document.createElement('div');\n",
              "          docLink.innerHTML = docLinkHtml;\n",
              "          element.appendChild(docLink);\n",
              "        }\n",
              "      </script>\n",
              "    </div>\n",
              "  </div>\n",
              "  "
            ]
          },
          "metadata": {},
          "execution_count": 90
        }
      ]
    },
    {
      "cell_type": "code",
      "source": [
        "df_sorted_installs = df_ms1_80_reg_cpi.sort_values('Installs', ascending=False).head(5)\n",
        "df_sorted_costs = df_ms1_80_reg_cpi.sort_values('Cost', ascending=False).head(5)\n",
        "\n",
        "fig, axs = plt.subplots(2, 2, figsize=(12, 8))\n",
        "fig.suptitle('Top 5 Installs and Costs \"РК 80\"')\n",
        "\n",
        "# топ 5 инсталлов\n",
        "axs[0, 0].bar(df_sorted_installs['Country'], df_sorted_installs['Installs'])\n",
        "axs[0, 0].set_title('Top 5 Installs')\n",
        "axs[0, 0].set_ylabel('Installs')\n",
        "\n",
        "# топ 5 затрат\n",
        "axs[0, 1].bar(df_sorted_costs['Country'], df_sorted_costs['Cost'])\n",
        "axs[0, 1].set_title('Top 5 Costs')\n",
        "axs[0, 1].set_ylabel('Cost')\n",
        "\n",
        "# CPI для топ 5 инсталлов\n",
        "for i, country in enumerate(df_sorted_installs['Country']):\n",
        "    cpi_value = df_sorted_installs[df_sorted_installs['Country'] == country]['CPI'].values[0]\n",
        "    axs[1, 0].bar(country, cpi_value)\n",
        "\n",
        "axs[1, 0].set_title('CPI for Top 5 Installs')\n",
        "axs[1, 0].set_xlabel('Country')\n",
        "axs[1, 0].set_ylabel('CPI')\n",
        "\n",
        "# CPI для топ 5 затрат\n",
        "for i, country in enumerate(df_sorted_costs['Country']):\n",
        "    cpi_value = df_sorted_costs[df_sorted_costs['Country'] == country]['CPI'].values[0]\n",
        "    axs[1, 1].bar(country, cpi_value)\n",
        "\n",
        "axs[1, 1].set_title('CPI for Top 5 Costs')\n",
        "axs[1, 1].set_xlabel('Country')\n",
        "axs[1, 1].set_ylabel('CPI')\n",
        "plt.show;"
      ],
      "metadata": {
        "colab": {
          "base_uri": "https://localhost:8080/",
          "height": 776
        },
        "id": "HhvCernbzbNI",
        "outputId": "b3b38157-bf2a-4a38-e4db-be228f381939"
      },
      "execution_count": 108,
      "outputs": [
        {
          "output_type": "display_data",
          "data": {
            "text/plain": [
              "<Figure size 1200x800 with 4 Axes>"
            ],
            "image/png": "[encoded data removed]"
          },
          "metadata": {}
        }
      ]
    },
    {
      "cell_type": "code",
      "source": [
        "# Доход по РК\n",
        "df_payments.merge(df_installs[['CampaignID','UserID']], on='UserID', how='left').groupby('CampaignID')['PaymentRevenue'].sum()"
      ],
      "metadata": {
        "colab": {
          "base_uri": "https://localhost:8080/"
        },
        "id": "HvWjBIWTv98v",
        "outputId": "7acfd076-deca-4b94-c60d-86a7927ea883"
      },
      "execution_count": 34,
      "outputs": [
        {
          "output_type": "execute_result",
          "data": {
            "text/plain": [
              "CampaignID\n",
              "19560305480         2499.103760\n",
              "19560308588         2478.233810\n",
              "lQX9cNlleNjAtuzw    6857.231789\n",
              "Name: PaymentRevenue, dtype: float64"
            ]
          },
          "metadata": {},
          "execution_count": 34
        }
      ]
    },
    {
      "cell_type": "code",
      "source": [
        "# Кол-во установок по РК\n",
        "df_installs.groupby('CampaignID')['CampaignID'].count()"
      ],
      "metadata": {
        "colab": {
          "base_uri": "https://localhost:8080/"
        },
        "id": "tPHqCPa_wUl4",
        "outputId": "7b8af81e-2f12-40da-f058-b264c919e4eb"
      },
      "execution_count": 39,
      "outputs": [
        {
          "output_type": "execute_result",
          "data": {
            "text/plain": [
              "CampaignID\n",
              "19560305480         13271\n",
              "19560308588          6446\n",
              "lQX9cNlleNjAtuzw     2699\n",
              "Name: CampaignID, dtype: int64"
            ]
          },
          "metadata": {},
          "execution_count": 39
        }
      ]
    },
    {
      "cell_type": "code",
      "source": [
        "# Кол-во платящих\n",
        "df_payments.merge(df_installs[['CampaignID','UserID']], on='UserID', how='left').groupby('CampaignID')['PaymentRevenue'].count()"
      ],
      "metadata": {
        "colab": {
          "base_uri": "https://localhost:8080/"
        },
        "id": "OAcXZ9mvwD-e",
        "outputId": "4c5c5bcd-a3af-4551-edb7-4db7f2a0e2f8"
      },
      "execution_count": 35,
      "outputs": [
        {
          "output_type": "execute_result",
          "data": {
            "text/plain": [
              "CampaignID\n",
              "19560305480         469\n",
              "19560308588         425\n",
              "lQX9cNlleNjAtuzw    686\n",
              "Name: PaymentRevenue, dtype: int64"
            ]
          },
          "metadata": {},
          "execution_count": 35
        }
      ]
    },
    {
      "cell_type": "markdown",
      "source": [
        "В итоге:\n",
        "\n",
        "Количество установок: RK-80 - 6427 установок, RK-88 - 13224 установок.\n",
        "\n",
        "Количество платящих пользователей: RK-80 - 425 юзеров, RK-88 - 469  юзеров.\n",
        "\n",
        "Затраты на рекламу: RK-80 - 3887.534905, RK-88 - 3778.6\n",
        "\n",
        "Доходы от рекламы: RK-80 - 2478.233810, RK-88 - 2499.1\n"
      ],
      "metadata": {
        "id": "a2ysESJkxUyI"
      }
    },
    {
      "cell_type": "markdown",
      "source": [
        "Нулевая гипотеза (H0): Конверсия в платящего пользователей в рекламной кампании RK-80 и RK-88 одинакова.\n",
        "\n",
        "Альтернативная гипотеза (H1): Конверсия в платящего пользователей в рекламной кампании RK-80 отличается от конверсии в рекламной кампании RK-88."
      ],
      "metadata": {
        "id": "2XJiVXkly8AG"
      }
    },
    {
      "cell_type": "code",
      "source": [
        "installs_RK80 = 6427\n",
        "installs_RK88 = 13224\n",
        "paying_users_RK80 = 425\n",
        "paying_users_RK88 = 469\n",
        "\n",
        "conversion_RK80 = paying_users_RK80 / installs_RK80\n",
        "conversion_RK88 = paying_users_RK88 / installs_RK88\n",
        "\n",
        "\n",
        "p1 = conversion_RK80\n",
        "p2 = conversion_RK88\n",
        "n1 = installs_RK80\n",
        "n2 = installs_RK88\n",
        "\n",
        "p_combined = (paying_users_RK80 + paying_users_RK88) / (installs_RK80 + installs_RK88)\n",
        "se = np.sqrt(p_combined * (1 - p_combined) * (1/n1 + 1/n2))\n",
        "z = (p1 - p2) / se\n",
        "p_value = 2 * (1 - norm.cdf(abs(z)))\n",
        "\n",
        "print(f\"Conversion rate for RK-80: {conversion_RK80:.4f}\")\n",
        "print(f\"Conversion rate for RK-88: {conversion_RK88:.4f}\")\n",
        "print(f\"Z-score: {z:.4f}\")\n",
        "print(f\"P-value: {p_value:.4f}\")"
      ],
      "metadata": {
        "colab": {
          "base_uri": "https://localhost:8080/"
        },
        "id": "HTGbWQtPxQ6O",
        "outputId": "4d942f69-0c7f-4c88-d2d1-14a718851c67"
      },
      "execution_count": 41,
      "outputs": [
        {
          "output_type": "stream",
          "name": "stdout",
          "text": [
            "Conversion rate for RK-80: 0.0661\n",
            "Conversion rate for RK-88: 0.0355\n",
            "Z-score: 9.6765\n",
            "P-value: 0.0000\n"
          ]
        }
      ]
    },
    {
      "cell_type": "markdown",
      "source": [
        "Мы получили Z-значение равное 9.6765 и P-значение равное 0.0000. Поскольку P-значение меньше уровня значимости 0.05, мы отвергаем нулевую гипотезу и принимаем альтернативную гипотезу.\n",
        "\n",
        "Таким образом, на основе статистического анализа можно сделать вывод, что конверсия в платящего пользователя в рекламной кампании RK-80 статистически значимо отличается от конверсии в рекламной кампании RK-88."
      ],
      "metadata": {
        "id": "hwV7CsJVzEbG"
      }
    },
    {
      "cell_type": "markdown",
      "source": [
        "Также выполним непараметрический тест Манна-Уитни, для подтверждения предыдущего\n",
        "вывода. Нулевую и альтернативную гипотезы оставим без изменений.\n"
      ],
      "metadata": {
        "id": "5ACvWHnszdGY"
      }
    },
    {
      "cell_type": "code",
      "source": [
        "from scipy.stats import mannwhitneyu\n",
        "statistic, p_value = mannwhitneyu([1] * paying_users_RK80 + [0] * (installs_RK80 - paying_users_RK80),[1] * paying_users_RK88 + [0] * (installs_RK88 - paying_users_RK88))\n",
        "\n",
        "print(\"Mann-Whitney U-статистика:\", statistic)\n",
        "print(\"P-значение:\", p_value)"
      ],
      "metadata": {
        "colab": {
          "base_uri": "https://localhost:8080/"
        },
        "id": "aQjXk41Y0LnI",
        "outputId": "06da2103-dd1d-4d95-b80c-c12d6e79a99d"
      },
      "execution_count": 43,
      "outputs": [
        {
          "output_type": "stream",
          "name": "stdout",
          "text": [
            "Mann-Whitney U-статистика: 43798292.5\n",
            "P-значение: 3.802546684380839e-22\n"
          ]
        }
      ]
    },
    {
      "cell_type": "markdown",
      "source": [
        " В данном случае, P-значение очень близко к нулю. Это означает, что существует очень низкая вероятность получить такие или более экстремальные различия между группами.\n",
        "\n",
        " Таким образом, полученное P-значение говорит о статистической значимости различий между группами. Мы можем отвергнуть нулевую гипотезу и сделать вывод о статистически значимом различии между RK-80 и RK-88 по метрике конверсии в платящего пользователя."
      ],
      "metadata": {
        "id": "soXN3rWP1kan"
      }
    },
    {
      "cell_type": "markdown",
      "source": [
        "В ходе решения пришел, я сделал вывод ,что будет нагляднее сделать дэшбоард в Табло, ссылку с дэшом прилагаю: https://public.tableau.com/app/profile/amiran.mkrtchyan/viz/__8088/sheet6?publish=yes\n",
        "\n",
        "Вывод:\n",
        "\n",
        "RK-80 привлекла в 2 раза больше установок (6427) по сравнению с RK-88 (13224), что говорит о более эффективной привлекательности пользователей по более низкой цене. Учитывая это, рекомендуется сосредоточиться на оптимизации монетизации в в RK-80, чтобы повысить средний доход от каждого платящего пользователя.\n",
        "\n",
        "Однако, кампания RK-88 имеет значительно более высокий показатель конверсии клиентов в платящих (469) по сравнению с RK-80 (425). Это говорит о более высоком уровне заинтересованности и готовности пользователей платить за продукт. Дополнительно, средний чек платящих пользователей в RK-88 на 5 центов выше. Исходя из этого, следует усилить маркетинговые усилия для дальнейшего привлечения большего числа пользователей."
      ],
      "metadata": {
        "id": "PV63RUdH16RW"
      }
    },
    {
      "cell_type": "markdown",
      "source": [
        "# Задание 2"
      ],
      "metadata": {
        "id": "Run4RhGf4T1Y"
      }
    },
    {
      "cell_type": "markdown",
      "source": [
        "**Какие основные методы и модели атрибуции существуют для проектов на iOS? Укажите преимущества и критические ограничения в различных методах.**"
      ],
      "metadata": {
        "id": "pSWErV7p4XYG"
      }
    },
    {
      "cell_type": "markdown",
      "source": [
        "* SKAdNetwork - это метод, который выполняется непосредственно на устройстве пользователя. Он предоставляет детерминированные данные об атрибуции, то есть указывает, какие рекламные источники привели к установке приложения. Однако у этого метода есть ограничения, такие как ограниченные возможности измерения дохода после установки (LTV) и неполное охватывание всех типов потоков.\n",
        "\n",
        "* ATT-consented users, это модель атрибуции, которая основана на сопоставлении идентификаторов пользователей. Она позволяет точно сопоставлять данные с различных источников и определять, какие рекламные кампании привели к установкам. Однако для этого метода требуется согласие пользователей на отслеживание (App Tracking Transparency), что может ограничить доступность данных.\n",
        "\n",
        "* Non-consented users, это модель атрибуции, которая использует агрегированные данные и вероятностное моделирование. Она позволяет анализировать данные без требования согласия от пользователей. Однако у этого метода могут быть ограничения в точности и детерминированности данных, а также в измерении LTV и других метрик."
      ],
      "metadata": {
        "id": "AwrOB24TQuhq"
      }
    },
    {
      "cell_type": "markdown",
      "source": [
        "Как я понял, все данные для этого тестового - это логи ios-юзеров  первого фидбека от scan4"
      ],
      "metadata": {
        "id": "JBu86egJZC02"
      }
    },
    {
      "cell_type": "markdown",
      "source": [
        "# Задание 3"
      ],
      "metadata": {
        "id": "fPiXZc6a0psV"
      }
    },
    {
      "cell_type": "markdown",
      "source": [
        "**Увас в работе находится игра, каждый уровень которой проходится за 3 минуты ровно. При прохождении уровня игрок сразу попадает на следующий. Вероятность проигрыша для каждого уровня и игрока одинакова и равняется 75% - тогда игроку предстоит начать прохождение уровня заново. Проиграть можно в любой момент времени. Также после каждой победы или поражения игрок с 20% вероятностью ставит игру на паузу продолжительностью 10-30 секунд. Сколько уровней вероятнее всего игрок пройдёт за 1 час?**\n",
        "\n",
        "Приложите полное решение задачи или же изложите логику рассуждений."
      ],
      "metadata": {
        "id": "GZeifvhg0twK"
      }
    },
    {
      "cell_type": "code",
      "source": [
        "import random\n",
        "\n",
        "def play_game():\n",
        "    levels_passed = 0\n",
        "    time_passed = 0\n",
        "\n",
        "    while time_passed < 60:  # Игровое время в минутах (1 час = 60 минут)\n",
        "        time_passed += 3  # Прохождение одного уровня занимает 3 минуты\n",
        "\n",
        "        if random.random() <= 0.75:  # Вероятность проигрыша на уровне: 75%\n",
        "            continue  # Игрок проигрывает и переходит к следующему уровню\n",
        "\n",
        "        levels_passed += 1  # Игрок побеждает и переходит к следующему уровню\n",
        "\n",
        "        if random.random() <= 0.2:  # Вероятность паузы после победы: 20%\n",
        "            pause_duration = random.randint(10, 30)  # Продолжительность паузы в секундах\n",
        "            time_passed += pause_duration / 60  # Преобразование продолжительности паузы в минуты\n",
        "\n",
        "    return levels_passed\n",
        "\n",
        "# Проводим моделирование игры\n",
        "num_simulations = 10000  # Количество моделирований\n",
        "total_levels_passed = 0\n",
        "\n",
        "for _ in range(num_simulations):\n",
        "    levels_passed = play_game()\n",
        "    total_levels_passed += levels_passed\n",
        "\n",
        "# Рассчитываем ожидаемое количество пройденных уровней за 1 час\n",
        "expected_levels_passed = total_levels_passed / num_simulations\n",
        "\n",
        "print(f\"Ожидаемое количество пройденных уровней за 1 час: {np.round(expected_levels_passed)}\")"
      ],
      "metadata": {
        "colab": {
          "base_uri": "https://localhost:8080/"
        },
        "id": "Hcmq87ex0thU",
        "outputId": "e1ed0b8b-94ff-4a7c-fe70-a9abf2459c37"
      },
      "execution_count": 122,
      "outputs": [
        {
          "output_type": "stream",
          "name": "stdout",
          "text": [
            "Ожидаемое количество пройденных уровней за 1 час: 5.0\n"
          ]
        }
      ]
    },
    {
      "cell_type": "markdown",
      "source": [
        "# Задание 4"
      ],
      "metadata": {
        "id": "aAoS2ffzzcMg"
      }
    },
    {
      "cell_type": "markdown",
      "source": [
        "Назовите ТОП 5 мобильных игр и кратко опишите основные механики этих игр."
      ],
      "metadata": {
        "id": "Fh_sap3Bzfgi"
      }
    },
    {
      "cell_type": "markdown",
      "source": [
        "* Wild Rift: Мобильная командная игра 5 на 5 с уникальными чемпионами и целью уничтожить базу противника. (я брал рейтинг топ-300 на eu)\n",
        "* Hearthstone: Карточная игра, где игроки сражаются с помощью карт, контролируют поле и достигают условий победы. (топ-800 на eu)\n",
        "* Diablo: Экшн-ролевая игра, включающая исследование подземелий, сражения с врагами, сбор лута и развитие персонажа.\n",
        "* PUBG: Многопользовательская игра с выживанием, где игроки сражаются за выживание на огромной карте, собирают оружие и экипировку, и стремятся стать последним выжившим.\n",
        "* Clash Royale: Многопользовательская стратегическая игра с коллекционными картами и турнирами. Игроки собирают и улучшают карты, формируют колоду, и сражаются против других игроков в режиме реального времени. Целью игры является уничтожение башен противника и защита своих собственных башен, используя различные карты с юнитами и заклинаниями."
      ],
      "metadata": {
        "id": "UbrA5t190O4S"
      }
    }
  ]
}